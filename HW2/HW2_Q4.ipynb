{
  "nbformat": 4,
  "nbformat_minor": 0,
  "metadata": {
    "colab": {
      "provenance": [],
      "collapsed_sections": []
    },
    "kernelspec": {
      "name": "python3",
      "display_name": "Python 3"
    },
    "gpuClass": "standard",
    "accelerator": "GPU"
  },
  "cells": [
    {
      "cell_type": "markdown",
      "metadata": {
        "id": "GrFpZXNQB9FW"
      },
      "source": [
        "#### Copyright 2018 Google LLC."
      ]
    },
    {
      "cell_type": "code",
      "metadata": {
        "id": "43_9Kh8LCDPK"
      },
      "source": [
        "# Licensed under the Apache License, Version 2.0 (the \"License\");\n",
        "# you may not use this file except in compliance with the License.\n",
        "# You may obtain a copy of the License at\n",
        "#\n",
        "# https://www.apache.org/licenses/LICENSE-2.0\n",
        "#\n",
        "# Unless required by applicable law or agreed to in writing, software\n",
        "# distributed under the License is distributed on an \"AS IS\" BASIS,\n",
        "# WITHOUT WARRANTIES OR CONDITIONS OF ANY KIND, either express or implied.\n",
        "# See the License for the specific language governing permissions and\n",
        "# limitations under the License."
      ],
      "execution_count": null,
      "outputs": []
    },
    {
      "cell_type": "markdown",
      "metadata": {
        "id": "YHK6DyunSbs4"
      },
      "source": [
        "# Cat vs. Dog Image Classification\n"
      ]
    },
    {
      "cell_type": "code",
      "metadata": {
        "id": "xvnAdS6YFTQZ"
      },
      "source": [
        "## Set These Parameters\n",
        "last_layer_neurons = 2\n",
        "last_layer_activation = 'sigmoid'\n",
        "loss_function = 'binary_crossentropy'"
      ],
      "execution_count": null,
      "outputs": []
    },
    {
      "cell_type": "code",
      "metadata": {
        "id": "XK-IN_zNgLlT"
      },
      "source": [
        "from tensorflow.keras.preprocessing.image import ImageDataGenerator\n",
        "\n",
        "datagen = ImageDataGenerator(\n",
        "      rotation_range=40,\n",
        "      width_shift_range=0.2,\n",
        "      height_shift_range=0.2,\n",
        "      shear_range=0.2,\n",
        "      zoom_range=0.2,\n",
        "      horizontal_flip=True,\n",
        "      fill_mode='nearest')"
      ],
      "execution_count": null,
      "outputs": []
    },
    {
      "cell_type": "code",
      "metadata": {
        "id": "dhztKtUSFMXp",
        "colab": {
          "base_uri": "https://localhost:8080/"
        },
        "outputId": "dec1ef3f-9462-48fc-9332-327eb98d7cbf"
      },
      "source": [
        "!wget --no-check-certificate \\\n",
        "   https://storage.googleapis.com/mledu-datasets/cats_and_dogs_filtered.zip -O \\\n",
        "   /tmp/cats_and_dogs_filtered.zip"
      ],
      "execution_count": null,
      "outputs": [
        {
          "output_type": "stream",
          "name": "stdout",
          "text": [
            "--2022-11-12 16:58:59--  https://storage.googleapis.com/mledu-datasets/cats_and_dogs_filtered.zip\n",
            "Resolving storage.googleapis.com (storage.googleapis.com)... 108.177.98.128, 74.125.197.128, 74.125.135.128, ...\n",
            "Connecting to storage.googleapis.com (storage.googleapis.com)|108.177.98.128|:443... connected.\n",
            "HTTP request sent, awaiting response... 200 OK\n",
            "Length: 68606236 (65M) [application/zip]\n",
            "Saving to: ‘/tmp/cats_and_dogs_filtered.zip’\n",
            "\n",
            "/tmp/cats_and_dogs_ 100%[===================>]  65.43M   204MB/s    in 0.3s    \n",
            "\n",
            "2022-11-12 16:58:59 (204 MB/s) - ‘/tmp/cats_and_dogs_filtered.zip’ saved [68606236/68606236]\n",
            "\n"
          ]
        }
      ]
    },
    {
      "cell_type": "code",
      "metadata": {
        "id": "LWkSRoJRfvGL"
      },
      "source": [
        "import os\n",
        "import zipfile\n",
        "\n",
        "local_zip = '/tmp/cats_and_dogs_filtered.zip'\n",
        "zip_ref = zipfile.ZipFile(local_zip, 'r')\n",
        "zip_ref.extractall('/tmp')\n",
        "zip_ref.close()\n",
        "  \n",
        "base_dir = '/tmp/cats_and_dogs_filtered'\n",
        "train_dir = os.path.join(base_dir, 'train')\n",
        "validation_dir = os.path.join(base_dir, 'validation')\n",
        "\n",
        "# Directory with our training cat pictures\n",
        "train_cats_dir = os.path.join(train_dir, 'cats')\n",
        "\n",
        "# Directory with our training dog pictures\n",
        "train_dogs_dir = os.path.join(train_dir, 'dogs')\n",
        "\n",
        "# Directory with our validation cat pictures\n",
        "validation_cats_dir = os.path.join(validation_dir, 'cats')\n",
        "\n",
        "# Directory with our validation dog pictures\n",
        "validation_dogs_dir = os.path.join(validation_dir, 'dogs')\n",
        "\n",
        "train_cat_fnames = os.listdir(train_cats_dir)\n",
        "train_dog_fnames = os.listdir(train_dogs_dir)"
      ],
      "execution_count": null,
      "outputs": []
    },
    {
      "cell_type": "markdown",
      "metadata": {
        "id": "02r1oXaegECk"
      },
      "source": [
        "Next, let's apply the `datagen` transformations to a cat image from the training set to produce five random variants. Rerun the cell a few times to see fresh batches of random variants."
      ]
    },
    {
      "cell_type": "code",
      "metadata": {
        "id": "e8HgwcAbmdcu",
        "colab": {
          "base_uri": "https://localhost:8080/"
        },
        "outputId": "8a1bea68-a0b5-4e6a-b1c4-7d57726ec437"
      },
      "source": [
        "# Adding rescale, rotation_range, width_shift_range, height_shift_range,\n",
        "# shear_range, zoom_range, and horizontal flip to our ImageDataGenerator\n",
        "train_datagen = ImageDataGenerator(\n",
        "    rescale=1./255,\n",
        "    rotation_range=20,\n",
        "    width_shift_range=0.1,\n",
        "    height_shift_range=0.1,\n",
        "    # shear_range=0.2,\n",
        "    # zoom_range=0.2,\n",
        "    horizontal_flip=True,)\n",
        "\n",
        "# Note that the validation data should not be augmented!\n",
        "val_datagen = ImageDataGenerator(rescale=1./255)\n",
        "\n",
        "#\n",
        "class_mode = 'binary' if last_layer_neurons == 1 else 'categorical'\n",
        "\n",
        "# Flow training images in batches of 32 using train_datagen generator\n",
        "train_generator = train_datagen.flow_from_directory(\n",
        "        train_dir,  # This is the source directory for training images\n",
        "        target_size=(150, 150),  # All images will be resized to 150x150\n",
        "        batch_size=20,\n",
        "        # Since we use binary_crossentropy loss, we need binary labels\n",
        "        class_mode=class_mode)\n",
        "\n",
        "# Flow validation images in batches of 32 using val_datagen generator\n",
        "validation_generator = val_datagen.flow_from_directory(\n",
        "        validation_dir,\n",
        "        target_size=(150, 150),\n",
        "        batch_size=20,\n",
        "        class_mode=class_mode)"
      ],
      "execution_count": null,
      "outputs": [
        {
          "output_type": "stream",
          "name": "stdout",
          "text": [
            "Found 2000 images belonging to 2 classes.\n",
            "Found 1000 images belonging to 2 classes.\n"
          ]
        }
      ]
    },
    {
      "cell_type": "markdown",
      "metadata": {
        "id": "K-3PrfDwDJjB"
      },
      "source": [
        "If we train a new network using this data augmentation configuration, our network will never see the same input twice. However the inputs that it sees are still heavily intercorrelated, so this might not be quite enough to completely get rid of overfitting."
      ]
    },
    {
      "cell_type": "markdown",
      "metadata": {
        "id": "lYguAfH3gyv6"
      },
      "source": [
        "## Building a Small ConvNet\n"
      ]
    },
    {
      "cell_type": "code",
      "metadata": {
        "id": "SVC4FgxiDje6",
        "colab": {
          "base_uri": "https://localhost:8080/"
        },
        "outputId": "08e6cb70-aa2d-4446-d40e-f7b490d3b80d"
      },
      "source": [
        "from tensorflow.keras import layers\n",
        "from tensorflow.keras import Model\n",
        "from tensorflow.keras import optimizers\n",
        "\n",
        "# Our input feature map is 150x150x3: 150x150 for the image pixels, and 3 for\n",
        "# the three color channels: R, G, and B\n",
        "img_input = layers.Input(shape=(150, 150, 3))\n",
        "\n",
        "# First convolution extracts 32 filters that are 3x3\n",
        "# Convolution is followed by max-pooling layer with a 2x2 window\n",
        "x = layers.Conv2D(32, 3, activation='relu')(img_input) \n",
        "x = layers.MaxPooling2D(2)(x)\n",
        "\n",
        "# Second convolution extracts 64 filters that are 3x3\n",
        "# Convolution is followed by max-pooling layer with a 2x2 window\n",
        "x = layers.Conv2D(64, 3, activation='relu')(x) \n",
        "x = layers.MaxPooling2D(2)(x)\n",
        "\n",
        "# Third convolution extracts 128 filters that are 3x3\n",
        "# Convolution is followed by max-pooling layer with a 2x2 window\n",
        "x = layers.Convolution2D(128, 3, activation='relu')(x) \n",
        "x = layers.MaxPooling2D(2)(x)\n",
        "\n",
        "# Flatten feature map to a 1-dim tensor\n",
        "x = layers.Flatten()(x)\n",
        "\n",
        "# Create a fully connected layer with ReLU activation and 512 hidden units\n",
        "x = layers.Dense(512, activation='relu')(x) \n",
        "\n",
        "# Add a dropout rate of 0.5\n",
        "x = layers.Dropout(0.2)(x)\n",
        "\n",
        "# add output layer\n",
        "output = layers.Dense(last_layer_neurons, activation=last_layer_activation)(x)\n",
        "\n",
        "# Configure and compile the model\n",
        "model = Model(img_input, output)\n",
        "model.compile(loss=loss_function,\n",
        "              optimizer=optimizers.RMSprop(lr=1e-3),\n",
        "              metrics=['acc'])"
      ],
      "execution_count": null,
      "outputs": [
        {
          "output_type": "stream",
          "name": "stderr",
          "text": [
            "/usr/local/lib/python3.7/dist-packages/keras/optimizers/optimizer_v2/rmsprop.py:135: UserWarning: The `lr` argument is deprecated, use `learning_rate` instead.\n",
            "  super(RMSprop, self).__init__(name, **kwargs)\n"
          ]
        }
      ]
    },
    {
      "cell_type": "code",
      "metadata": {
        "cellView": "code",
        "id": "SdW6geEVi2S8",
        "colab": {
          "base_uri": "https://localhost:8080/"
        },
        "outputId": "7fa37c43-5d16-4b64-ecf4-1807311c9e48"
      },
      "source": [
        "history = model.fit(\n",
        "      train_generator,\n",
        "      epochs=50,\n",
        "      validation_data=validation_generator,\n",
        "      verbose=1)"
      ],
      "execution_count": null,
      "outputs": [
        {
          "output_type": "stream",
          "name": "stdout",
          "text": [
            "Epoch 1/50\n",
            "100/100 [==============================] - 26s 174ms/step - loss: 0.8219 - acc: 0.5185 - val_loss: 0.6748 - val_acc: 0.5710\n",
            "Epoch 2/50\n",
            "100/100 [==============================] - 17s 173ms/step - loss: 0.6808 - acc: 0.6030 - val_loss: 0.6304 - val_acc: 0.6450\n",
            "Epoch 3/50\n",
            "100/100 [==============================] - 16s 164ms/step - loss: 0.6521 - acc: 0.6270 - val_loss: 0.6067 - val_acc: 0.6740\n",
            "Epoch 4/50\n",
            "100/100 [==============================] - 16s 164ms/step - loss: 0.6222 - acc: 0.6635 - val_loss: 0.6756 - val_acc: 0.6050\n",
            "Epoch 5/50\n",
            "100/100 [==============================] - 17s 174ms/step - loss: 0.5960 - acc: 0.6905 - val_loss: 0.5765 - val_acc: 0.6990\n",
            "Epoch 6/50\n",
            "100/100 [==============================] - 16s 164ms/step - loss: 0.5817 - acc: 0.6970 - val_loss: 0.5632 - val_acc: 0.7130\n",
            "Epoch 7/50\n",
            "100/100 [==============================] - 17s 166ms/step - loss: 0.5617 - acc: 0.7105 - val_loss: 0.5910 - val_acc: 0.6980\n",
            "Epoch 8/50\n",
            "100/100 [==============================] - 18s 182ms/step - loss: 0.5793 - acc: 0.7080 - val_loss: 0.5727 - val_acc: 0.6840\n",
            "Epoch 9/50\n",
            "100/100 [==============================] - 17s 168ms/step - loss: 0.5494 - acc: 0.7305 - val_loss: 0.5770 - val_acc: 0.6930\n",
            "Epoch 10/50\n",
            "100/100 [==============================] - 16s 164ms/step - loss: 0.5313 - acc: 0.7425 - val_loss: 0.5661 - val_acc: 0.7330\n",
            "Epoch 11/50\n",
            "100/100 [==============================] - 17s 174ms/step - loss: 0.5183 - acc: 0.7430 - val_loss: 0.5266 - val_acc: 0.7300\n",
            "Epoch 12/50\n",
            "100/100 [==============================] - 17s 166ms/step - loss: 0.5159 - acc: 0.7510 - val_loss: 0.5775 - val_acc: 0.7320\n",
            "Epoch 13/50\n",
            "100/100 [==============================] - 16s 165ms/step - loss: 0.5057 - acc: 0.7485 - val_loss: 0.5572 - val_acc: 0.7510\n",
            "Epoch 14/50\n",
            "100/100 [==============================] - 17s 173ms/step - loss: 0.5002 - acc: 0.7685 - val_loss: 0.5179 - val_acc: 0.7440\n",
            "Epoch 15/50\n",
            "100/100 [==============================] - 16s 165ms/step - loss: 0.4935 - acc: 0.7680 - val_loss: 0.5314 - val_acc: 0.7350\n",
            "Epoch 16/50\n",
            "100/100 [==============================] - 17s 166ms/step - loss: 0.4746 - acc: 0.7855 - val_loss: 0.4816 - val_acc: 0.7780\n",
            "Epoch 17/50\n",
            "100/100 [==============================] - 17s 172ms/step - loss: 0.4794 - acc: 0.7790 - val_loss: 0.4610 - val_acc: 0.7840\n",
            "Epoch 18/50\n",
            "100/100 [==============================] - 16s 164ms/step - loss: 0.4447 - acc: 0.8070 - val_loss: 0.4595 - val_acc: 0.7850\n",
            "Epoch 19/50\n",
            "100/100 [==============================] - 17s 165ms/step - loss: 0.4669 - acc: 0.7815 - val_loss: 0.5658 - val_acc: 0.7190\n",
            "Epoch 20/50\n",
            "100/100 [==============================] - 16s 165ms/step - loss: 0.4485 - acc: 0.7960 - val_loss: 0.6387 - val_acc: 0.7170\n",
            "Epoch 21/50\n",
            "100/100 [==============================] - 17s 173ms/step - loss: 0.4569 - acc: 0.7900 - val_loss: 0.5009 - val_acc: 0.7530\n",
            "Epoch 22/50\n",
            "100/100 [==============================] - 16s 165ms/step - loss: 0.4523 - acc: 0.7940 - val_loss: 0.4625 - val_acc: 0.8010\n",
            "Epoch 23/50\n",
            "100/100 [==============================] - 17s 165ms/step - loss: 0.4474 - acc: 0.7905 - val_loss: 0.5285 - val_acc: 0.7490\n",
            "Epoch 24/50\n",
            "100/100 [==============================] - 17s 174ms/step - loss: 0.4420 - acc: 0.8065 - val_loss: 0.4906 - val_acc: 0.7860\n",
            "Epoch 25/50\n",
            "100/100 [==============================] - 16s 164ms/step - loss: 0.4385 - acc: 0.8005 - val_loss: 0.8427 - val_acc: 0.6650\n",
            "Epoch 26/50\n",
            "100/100 [==============================] - 16s 164ms/step - loss: 0.4340 - acc: 0.8095 - val_loss: 0.4344 - val_acc: 0.8040\n",
            "Epoch 27/50\n",
            "100/100 [==============================] - 17s 175ms/step - loss: 0.4190 - acc: 0.8065 - val_loss: 0.4847 - val_acc: 0.7910\n",
            "Epoch 28/50\n",
            "100/100 [==============================] - 16s 165ms/step - loss: 0.4295 - acc: 0.8150 - val_loss: 0.4929 - val_acc: 0.7860\n",
            "Epoch 29/50\n",
            "100/100 [==============================] - 17s 166ms/step - loss: 0.4133 - acc: 0.8210 - val_loss: 0.4299 - val_acc: 0.8230\n",
            "Epoch 30/50\n",
            "100/100 [==============================] - 18s 177ms/step - loss: 0.4274 - acc: 0.8155 - val_loss: 0.4360 - val_acc: 0.8120\n",
            "Epoch 31/50\n",
            "100/100 [==============================] - 16s 165ms/step - loss: 0.3999 - acc: 0.8260 - val_loss: 0.4396 - val_acc: 0.7960\n",
            "Epoch 32/50\n",
            "100/100 [==============================] - 17s 165ms/step - loss: 0.4166 - acc: 0.8175 - val_loss: 0.4372 - val_acc: 0.8170\n",
            "Epoch 33/50\n",
            "100/100 [==============================] - 17s 175ms/step - loss: 0.3948 - acc: 0.8380 - val_loss: 0.4372 - val_acc: 0.7950\n",
            "Epoch 34/50\n",
            "100/100 [==============================] - 17s 165ms/step - loss: 0.4003 - acc: 0.8175 - val_loss: 0.7230 - val_acc: 0.7420\n",
            "Epoch 35/50\n",
            "100/100 [==============================] - 17s 172ms/step - loss: 0.3983 - acc: 0.8255 - val_loss: 0.4883 - val_acc: 0.8070\n",
            "Epoch 36/50\n",
            "100/100 [==============================] - 17s 165ms/step - loss: 0.4090 - acc: 0.8260 - val_loss: 0.5325 - val_acc: 0.8100\n",
            "Epoch 37/50\n",
            "100/100 [==============================] - 17s 173ms/step - loss: 0.3951 - acc: 0.8310 - val_loss: 0.5076 - val_acc: 0.7860\n",
            "Epoch 38/50\n",
            "100/100 [==============================] - 17s 165ms/step - loss: 0.4067 - acc: 0.8370 - val_loss: 0.5462 - val_acc: 0.7570\n",
            "Epoch 39/50\n",
            "100/100 [==============================] - 16s 165ms/step - loss: 0.3991 - acc: 0.8380 - val_loss: 0.5345 - val_acc: 0.7990\n",
            "Epoch 40/50\n",
            "100/100 [==============================] - 17s 172ms/step - loss: 0.3913 - acc: 0.8310 - val_loss: 0.4448 - val_acc: 0.8130\n",
            "Epoch 41/50\n",
            "100/100 [==============================] - 17s 165ms/step - loss: 0.3959 - acc: 0.8200 - val_loss: 0.4854 - val_acc: 0.8000\n",
            "Epoch 42/50\n",
            "100/100 [==============================] - 17s 165ms/step - loss: 0.3876 - acc: 0.8395 - val_loss: 0.5113 - val_acc: 0.7870\n",
            "Epoch 43/50\n",
            "100/100 [==============================] - 17s 175ms/step - loss: 0.3671 - acc: 0.8420 - val_loss: 0.6896 - val_acc: 0.7050\n",
            "Epoch 44/50\n",
            "100/100 [==============================] - 16s 164ms/step - loss: 0.3817 - acc: 0.8330 - val_loss: 0.5148 - val_acc: 0.8220\n",
            "Epoch 45/50\n",
            "100/100 [==============================] - 17s 165ms/step - loss: 0.3789 - acc: 0.8515 - val_loss: 0.4674 - val_acc: 0.7870\n",
            "Epoch 46/50\n",
            "100/100 [==============================] - 17s 172ms/step - loss: 0.4040 - acc: 0.8225 - val_loss: 0.4498 - val_acc: 0.8120\n",
            "Epoch 47/50\n",
            "100/100 [==============================] - 17s 167ms/step - loss: 0.3883 - acc: 0.8230 - val_loss: 0.4739 - val_acc: 0.7890\n",
            "Epoch 48/50\n",
            "100/100 [==============================] - 16s 165ms/step - loss: 0.3818 - acc: 0.8345 - val_loss: 0.5708 - val_acc: 0.7740\n",
            "Epoch 49/50\n",
            "100/100 [==============================] - 17s 174ms/step - loss: 0.3829 - acc: 0.8400 - val_loss: 0.4930 - val_acc: 0.7640\n",
            "Epoch 50/50\n",
            "100/100 [==============================] - 17s 174ms/step - loss: 0.3867 - acc: 0.8340 - val_loss: 0.4602 - val_acc: 0.7990\n"
          ]
        }
      ]
    },
    {
      "cell_type": "markdown",
      "metadata": {
        "id": "1LTWMLV6SUvP"
      },
      "source": [
        "Note that with data augmentation in place, the 2,000 training images are randomly transformed each time a new training epoch runs, which means that the model will never see the same image twice during training."
      ]
    },
    {
      "cell_type": "markdown",
      "metadata": {
        "id": "IZqvC9UJlWc2"
      },
      "source": [
        "## Evaluate the Results\n",
        "\n",
        "Let's evaluate the results of model training with data augmentation and dropout:"
      ]
    },
    {
      "cell_type": "code",
      "metadata": {
        "id": "NKCjHegASXaA",
        "colab": {
          "base_uri": "https://localhost:8080/",
          "height": 562
        },
        "outputId": "1eae51ed-a052-4d27-cc06-7f1e2aa7ff0f"
      },
      "source": [
        "from matplotlib import pyplot as plt\n",
        "\n",
        "# Retrieve a list of accuracy results on training and validation data\n",
        "# sets for each training epoch\n",
        "acc = history.history['acc']\n",
        "val_acc = history.history['val_acc']\n",
        "\n",
        "# Retrieve a list of list results on training and validation data\n",
        "# sets for each training epoch\n",
        "loss = history.history['loss']\n",
        "val_loss = history.history['val_loss']\n",
        "\n",
        "# Get number of epochs\n",
        "epochs = range(len(acc))\n",
        "\n",
        "# Plot training and validation accuracy per epoch\n",
        "plt.plot(epochs, acc)\n",
        "plt.plot(epochs, val_acc)\n",
        "plt.title('Training and validation accuracy')\n",
        "\n",
        "plt.figure()\n",
        "\n",
        "# Plot training and validation loss per epoch\n",
        "plt.plot(epochs, loss)\n",
        "plt.plot(epochs, val_loss)\n",
        "plt.title('Training and validation loss')"
      ],
      "execution_count": null,
      "outputs": [
        {
          "output_type": "execute_result",
          "data": {
            "text/plain": [
              "Text(0.5, 1.0, 'Training and validation loss')"
            ]
          },
          "metadata": {},
          "execution_count": 8
        },
        {
          "output_type": "display_data",
          "data": {
            "text/plain": [
              "<Figure size 432x288 with 1 Axes>"
            ],
            "image/png": "[encoded data removed]"
          },
          "metadata": {
            "needs_background": "light"
          }
        },
        {
          "output_type": "display_data",
          "data": {
            "text/plain": [
              "<Figure size 432x288 with 1 Axes>"
            ],
            "image/png": "[encoded data removed]"
          },
          "metadata": {
            "needs_background": "light"
          }
        }
      ]
    }
  ]
}