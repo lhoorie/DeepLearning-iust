{
  "cells": [
    {
      "cell_type": "markdown",
      "metadata": {
        "id": "kG3yh3F3YMZZ"
      },
      "source": [
        "# Data Agumentation Problem\n",
        "#### Here you need to compare two models with and without agumentation to see the difference"
      ]
    },
    {
      "cell_type": "markdown",
      "metadata": {
        "id": "R4nhDnL1YMZf"
      },
      "source": [
        "### Import libraries"
      ]
    },
    {
      "cell_type": "code",
      "execution_count": 1,
      "metadata": {
        "id": "DApO-QgeUJyh"
      },
      "outputs": [],
      "source": [
        "import glob\n",
        "import cv2\n",
        "import numpy as np\n",
        "import random\n",
        "import tensorflow as tf\n",
        "import keras\n",
        "import os\n",
        "import matplotlib.pyplot as plt"
      ]
    },
    {
      "cell_type": "code",
      "source": [
        "data_dir = '/content/data'\n",
        "!unzip '/content/data.zip'"
      ],
      "metadata": {
        "colab": {
          "base_uri": "https://localhost:8080/"
        },
        "id": "U3InLLUWUUcr",
        "outputId": "478e0144-6c88-4f4b-fe01-85b3f34cb731"
      },
      "execution_count": 5,
      "outputs": [
        {
          "output_type": "stream",
          "name": "stdout",
          "text": [
            "Archive:  /content/data.zip\n",
            "replace data/cat.10172.jpg? [y]es, [n]o, [A]ll, [N]one, [r]ename: Y\n",
            "  inflating: data/cat.10172.jpg      \n",
            "replace data/cat.10195.jpg? [y]es, [n]o, [A]ll, [N]one, [r]ename: A\n",
            "  inflating: data/cat.10195.jpg      \n",
            "  inflating: data/cat.1021.jpg       \n",
            "  inflating: data/cat.10949.jpg      \n",
            "  inflating: data/cat.11521.jpg      \n",
            "  inflating: data/cat.11535.jpg      \n",
            "  inflating: data/cat.11843.jpg      \n",
            "  inflating: data/cat.119.jpg        \n",
            "  inflating: data/cat.11946.jpg      \n",
            "  inflating: data/cat.11959.jpg      \n",
            "  inflating: data/cat.12263.jpg      \n",
            "  inflating: data/cat.12479.jpg      \n",
            "  inflating: data/cat.1666.jpg       \n",
            "  inflating: data/cat.1807.jpg       \n",
            "  inflating: data/cat.1848.jpg       \n",
            "  inflating: data/cat.2098.jpg       \n",
            "  inflating: data/cat.223.jpg        \n",
            "  inflating: data/cat.225.jpg        \n",
            "  inflating: data/cat.2326.jpg       \n",
            "  inflating: data/cat.2479.jpg       \n",
            "  inflating: data/cat.2482.jpg       \n",
            "  inflating: data/cat.2749.jpg       \n",
            "  inflating: data/cat.343.jpg        \n",
            "  inflating: data/cat.3469.jpg       \n",
            "  inflating: data/cat.3543.jpg       \n",
            "  inflating: data/cat.4071.jpg       \n",
            "  inflating: data/cat.4126.jpg       \n",
            "  inflating: data/cat.4177.jpg       \n",
            "  inflating: data/cat.4279.jpg       \n",
            "  inflating: data/cat.4344.jpg       \n",
            "  inflating: data/cat.4772.jpg       \n",
            "  inflating: data/cat.5005.jpg       \n",
            "  inflating: data/cat.5009.jpg       \n",
            "  inflating: data/cat.5077.jpg       \n",
            "  inflating: data/cat.6038.jpg       \n",
            "  inflating: data/cat.6706.jpg       \n",
            "  inflating: data/cat.6762.jpg       \n",
            "  inflating: data/cat.7305.jpg       \n",
            "  inflating: data/cat.7738.jpg       \n",
            "  inflating: data/cat.8309.jpg       \n",
            "  inflating: data/cat.8608.jpg       \n",
            "  inflating: data/cat.8740.jpg       \n",
            "  inflating: data/cat.8908.jpg       \n",
            "  inflating: data/cat.9239.jpg       \n",
            "  inflating: data/cat.9378.jpg       \n",
            "  inflating: data/cat.9499.jpg       \n",
            "  inflating: data/cat.9501.jpg       \n",
            "  inflating: data/cat.98.jpg         \n",
            "  inflating: data/cat.9860.jpg       \n",
            "  inflating: data/cat.9890.jpg       \n",
            "  inflating: data/dog.10221.jpg      \n",
            "  inflating: data/dog.10546.jpg      \n",
            "  inflating: data/dog.10890.jpg      \n",
            "  inflating: data/dog.11099.jpg      \n",
            "  inflating: data/dog.11154.jpg      \n",
            "  inflating: data/dog.11283.jpg      \n",
            "  inflating: data/dog.11634.jpg      \n",
            "  inflating: data/dog.11675.jpg      \n",
            "  inflating: data/dog.11777.jpg      \n",
            "  inflating: data/dog.11833.jpg      \n",
            "  inflating: data/dog.12029.jpg      \n",
            "  inflating: data/dog.12031.jpg      \n",
            "  inflating: data/dog.12181.jpg      \n",
            "  inflating: data/dog.12247.jpg      \n",
            "  inflating: data/dog.12399.jpg      \n",
            "  inflating: data/dog.1687.jpg       \n",
            "  inflating: data/dog.1781.jpg       \n",
            "  inflating: data/dog.1989.jpg       \n",
            "  inflating: data/dog.2078.jpg       \n",
            "  inflating: data/dog.2092.jpg       \n",
            "  inflating: data/dog.2242.jpg       \n",
            "  inflating: data/dog.2793.jpg       \n",
            "  inflating: data/dog.301.jpg        \n",
            "  inflating: data/dog.3048.jpg       \n",
            "  inflating: data/dog.306.jpg        \n",
            "  inflating: data/dog.3565.jpg       \n",
            "  inflating: data/dog.3788.jpg       \n",
            "  inflating: data/dog.42.jpg         \n",
            "  inflating: data/dog.4439.jpg       \n",
            "  inflating: data/dog.5657.jpg       \n",
            "  inflating: data/dog.5920.jpg       \n",
            "  inflating: data/dog.6132.jpg       \n",
            "  inflating: data/dog.6219.jpg       \n",
            "  inflating: data/dog.6503.jpg       \n",
            "  inflating: data/dog.658.jpg        \n",
            "  inflating: data/dog.6891.jpg       \n",
            "  inflating: data/dog.6892.jpg       \n",
            "  inflating: data/dog.6966.jpg       \n",
            "  inflating: data/dog.699.jpg        \n",
            "  inflating: data/dog.7487.jpg       \n",
            "  inflating: data/dog.7778.jpg       \n",
            "  inflating: data/dog.8228.jpg       \n",
            "  inflating: data/dog.8296.jpg       \n",
            "  inflating: data/dog.8629.jpg       \n",
            "  inflating: data/dog.8715.jpg       \n",
            "  inflating: data/dog.91.jpg         \n",
            "  inflating: data/dog.9326.jpg       \n",
            "  inflating: data/dog.9374.jpg       \n",
            "  inflating: data/dog.9440.jpg       \n",
            "  inflating: data/dog.9719.jpg       \n"
          ]
        }
      ]
    },
    {
      "cell_type": "markdown",
      "metadata": {
        "id": "h3OrUp7nYMZj"
      },
      "source": [
        "### Read Images"
      ]
    },
    {
      "cell_type": "code",
      "source": [
        "images = []\n",
        "labels = []\n",
        "classnames = ['cat', 'dog']\n",
        "folder = '/content/data'\n",
        "for filename in os.listdir(folder):\n",
        "    img = cv2.imread(os.path.join(folder, filename))\n",
        "    img = cv2.resize(img, (28, 28))\n",
        "    images.append(img)\n",
        "    if filename.split('.')[0]==\"cat\":\n",
        "      labels.append(0)\n",
        "    else:\n",
        "      labels.append(1)"
      ],
      "metadata": {
        "id": "3EZpTQs1QRcN"
      },
      "execution_count": 7,
      "outputs": []
    },
    {
      "cell_type": "code",
      "source": [
        "plt.figure(figsize=(10, 10))\n",
        "for image in images:\n",
        "  for i in range(9):\n",
        "    ax = plt.subplot(3, 3, i + 1)\n",
        "    plt.imshow(images[i].astype(\"uint8\"))\n",
        "    plt.title(classnames[labels[i]])\n",
        "    plt.axis(\"off\")"
      ],
      "metadata": {
        "colab": {
          "base_uri": "https://localhost:8080/",
          "height": 647
        },
        "id": "B35XJ2wTUy3g",
        "outputId": "813ac292-37fa-452a-bec6-6fbd48734516"
      },
      "execution_count": 8,
      "outputs": [
        {
          "output_type": "stream",
          "name": "stderr",
          "text": [
            "/usr/local/lib/python3.7/dist-packages/ipykernel_launcher.py:4: MatplotlibDeprecationWarning: Adding an axes using the same arguments as a previous axes currently reuses the earlier instance.  In a future version, a new instance will always be created and returned.  Meanwhile, this warning can be suppressed, and the future behavior ensured, by passing a unique label to each axes instance.\n",
            "  after removing the cwd from sys.path.\n"
          ]
        },
        {
          "output_type": "display_data",
          "data": {
            "text/plain": [
              "<Figure size 720x720 with 9 Axes>"
            ],
            "image/png": "[encoded data removed]"
          },
          "metadata": {
            "needs_background": "light"
          }
        }
      ]
    },
    {
      "cell_type": "code",
      "source": [
        "# Normalize your dataset in a way to have a image dataset with pixles in range (0 to 1)\n",
        "\n",
        "########################\n",
        "## PUT YOUR CODE HERE ##\n",
        "########################\n",
        "images = np.divide(images, 255)\n",
        "x_train = np.array(images)\n",
        "x_train = x_train.flatten().reshape(100, 2352)\n",
        "y_train = np.array(labels)"
      ],
      "metadata": {
        "id": "lezq-33xK80R"
      },
      "execution_count": 10,
      "outputs": []
    },
    {
      "cell_type": "code",
      "source": [
        "# Check your dataset and labels to be a numpy ndarray of sizes (100, 28 * 28 * 3) and (100, 1) respectively.\n",
        "\n",
        "\n",
        "########################\n",
        "## PUT YOUR CODE HERE ##\n",
        "########################\n",
        "print(x_train.shape)\n",
        "print(y_train.shape)"
      ],
      "metadata": {
        "colab": {
          "base_uri": "https://localhost:8080/"
        },
        "id": "X73WuwnCLJ0V",
        "outputId": "ac134cde-a99f-4625-bfc1-925b9d3e5a3b"
      },
      "execution_count": 11,
      "outputs": [
        {
          "output_type": "stream",
          "name": "stdout",
          "text": [
            "(100, 2352)\n",
            "(100,)\n"
          ]
        }
      ]
    },
    {
      "cell_type": "markdown",
      "metadata": {
        "id": "MujRbfmRYMZk"
      },
      "source": [
        "### Prepare Dataset"
      ]
    },
    {
      "cell_type": "markdown",
      "metadata": {
        "id": "ej3FX-X2YMZo"
      },
      "source": [
        "### Create your Model"
      ]
    },
    {
      "cell_type": "code",
      "execution_count": 12,
      "metadata": {
        "id": "uqM8yCQBYMZo"
      },
      "outputs": [],
      "source": [
        "from tensorflow.keras.models import Sequential\n",
        "from tensorflow.keras.layers import Dense, Activation\n",
        "from tensorflow.keras.optimizers import Adam\n",
        "from tensorflow.keras.losses import BinaryCrossentropy\n",
        "from sklearn.model_selection import train_test_split"
      ]
    },
    {
      "cell_type": "code",
      "execution_count": 22,
      "metadata": {
        "id": "5MWcrFGKYMZp"
      },
      "outputs": [],
      "source": [
        "# create a simple model of Keras MLP with desired number of dense layers and units and activation function\n",
        "# don't forget to shuffle the data\n",
        "# this is a binary classification problem\n",
        "\n",
        "\n",
        "\n",
        "########################\n",
        "## PUT YOUR CODE HERE ##\n",
        "########################\n",
        "model1 = Sequential()\n",
        "model1.add(Dense(512, input_shape=(2352,), activation='relu'))\n",
        "model1.add(Dense(10, kernel_initializer='normal', activation='relu'))\n",
        "model1.add(Dense(1, kernel_initializer='normal', activation='sigmoid'))"
      ]
    },
    {
      "cell_type": "code",
      "execution_count": 20,
      "metadata": {
        "id": "puWvySwGYMZq"
      },
      "outputs": [],
      "source": [
        "# Split your dataset to test and train with your desired implementation\n",
        "# use sklearn.model_selection.train_test_split\n",
        "\n",
        "\n",
        "########################\n",
        "## PUT YOUR CODE HERE ##\n",
        "########################\n",
        "x_train, x_test, y_train, y_test = train_test_split(x_train, y_train, test_size=0.33)"
      ]
    },
    {
      "cell_type": "code",
      "execution_count": 23,
      "metadata": {
        "id": "4hTMnxyKYMZq",
        "colab": {
          "base_uri": "https://localhost:8080/"
        },
        "outputId": "008374f1-7f73-44e6-f821-a617e89bb2c3"
      },
      "outputs": [
        {
          "output_type": "stream",
          "name": "stdout",
          "text": [
            "Epoch 1/20\n",
            "7/7 [==============================] - 1s 60ms/step - loss: 0.6936 - accuracy: 0.4286 - val_loss: 0.6938 - val_accuracy: 0.4444\n",
            "Epoch 2/20\n",
            "7/7 [==============================] - 0s 12ms/step - loss: 0.6928 - accuracy: 0.5143 - val_loss: 0.6942 - val_accuracy: 0.4444\n",
            "Epoch 3/20\n",
            "7/7 [==============================] - 0s 16ms/step - loss: 0.6922 - accuracy: 0.5143 - val_loss: 0.6947 - val_accuracy: 0.4444\n",
            "Epoch 4/20\n",
            "7/7 [==============================] - 0s 14ms/step - loss: 0.6917 - accuracy: 0.5143 - val_loss: 0.6953 - val_accuracy: 0.4444\n",
            "Epoch 5/20\n",
            "7/7 [==============================] - 0s 16ms/step - loss: 0.6918 - accuracy: 0.5143 - val_loss: 0.6970 - val_accuracy: 0.4444\n",
            "Epoch 6/20\n",
            "7/7 [==============================] - 0s 14ms/step - loss: 0.6902 - accuracy: 0.5143 - val_loss: 0.6988 - val_accuracy: 0.4444\n",
            "Epoch 7/20\n",
            "7/7 [==============================] - 0s 14ms/step - loss: 0.6881 - accuracy: 0.5143 - val_loss: 0.7017 - val_accuracy: 0.4444\n",
            "Epoch 8/20\n",
            "7/7 [==============================] - 0s 17ms/step - loss: 0.6874 - accuracy: 0.5143 - val_loss: 0.7026 - val_accuracy: 0.4444\n",
            "Epoch 9/20\n",
            "7/7 [==============================] - 0s 12ms/step - loss: 0.6839 - accuracy: 0.5143 - val_loss: 0.7074 - val_accuracy: 0.4444\n",
            "Epoch 10/20\n",
            "7/7 [==============================] - 0s 14ms/step - loss: 0.6830 - accuracy: 0.5143 - val_loss: 0.7145 - val_accuracy: 0.4444\n",
            "Epoch 11/20\n",
            "7/7 [==============================] - 0s 14ms/step - loss: 0.6775 - accuracy: 0.5143 - val_loss: 0.7165 - val_accuracy: 0.4444\n",
            "Epoch 12/20\n",
            "7/7 [==============================] - 0s 14ms/step - loss: 0.6749 - accuracy: 0.5143 - val_loss: 0.7247 - val_accuracy: 0.4444\n",
            "Epoch 13/20\n",
            "7/7 [==============================] - 0s 19ms/step - loss: 0.6701 - accuracy: 0.5143 - val_loss: 0.7274 - val_accuracy: 0.4444\n",
            "Epoch 14/20\n",
            "7/7 [==============================] - 0s 14ms/step - loss: 0.6648 - accuracy: 0.5143 - val_loss: 0.7381 - val_accuracy: 0.4444\n",
            "Epoch 15/20\n",
            "7/7 [==============================] - 0s 14ms/step - loss: 0.6589 - accuracy: 0.5143 - val_loss: 0.7472 - val_accuracy: 0.3333\n",
            "Epoch 16/20\n",
            "7/7 [==============================] - 0s 16ms/step - loss: 0.6518 - accuracy: 0.5143 - val_loss: 0.7553 - val_accuracy: 0.3333\n",
            "Epoch 17/20\n",
            "7/7 [==============================] - 0s 15ms/step - loss: 0.6445 - accuracy: 0.5429 - val_loss: 0.7620 - val_accuracy: 0.3333\n",
            "Epoch 18/20\n",
            "7/7 [==============================] - 0s 12ms/step - loss: 0.6376 - accuracy: 0.6571 - val_loss: 0.7840 - val_accuracy: 0.3333\n",
            "Epoch 19/20\n",
            "7/7 [==============================] - 0s 15ms/step - loss: 0.6320 - accuracy: 0.6000 - val_loss: 0.8110 - val_accuracy: 0.3333\n",
            "Epoch 20/20\n",
            "7/7 [==============================] - 0s 16ms/step - loss: 0.6245 - accuracy: 0.5714 - val_loss: 0.8185 - val_accuracy: 0.3333\n"
          ]
        }
      ],
      "source": [
        "# Compile with your desired optimizer and loss function with 'accuracy' as metric\n",
        "# # Don't forget to monitor the overfitting, you should take care of val_accuracy and val_loss\n",
        "\n",
        "########################\n",
        "## PUT YOUR CODE HERE ##\n",
        "model1.compile(loss='binary_crossentropy', optimizer='adam', metrics=['accuracy'])\n",
        "# uncomment below and complete the code\n",
        "history = model1.fit(\n",
        "      x_train, y_train,\n",
        "      epochs=20,\n",
        "      batch_size=5,\n",
        "      validation_split=0.2,\n",
        "      shuffle=True,\n",
        "      verbose=1)\n",
        "########################\n",
        "\n"
      ]
    },
    {
      "cell_type": "markdown",
      "metadata": {
        "id": "MnsVMdAeYMZr"
      },
      "source": [
        "### Plot results"
      ]
    },
    {
      "cell_type": "code",
      "execution_count": 24,
      "metadata": {
        "id": "8niHDswpYMZs",
        "colab": {
          "base_uri": "https://localhost:8080/",
          "height": 545
        },
        "outputId": "c1e17b5b-31c6-43f8-99b0-1c435a4575d2"
      },
      "outputs": [
        {
          "output_type": "display_data",
          "data": {
            "text/plain": [
              "<Figure size 432x288 with 1 Axes>"
            ],
            "image/png": "[encoded data removed]"
          },
          "metadata": {
            "needs_background": "light"
          }
        },
        {
          "output_type": "display_data",
          "data": {
            "text/plain": [
              "<Figure size 432x288 with 1 Axes>"
            ],
            "image/png": "[encoded data removed]"
          },
          "metadata": {
            "needs_background": "light"
          }
        }
      ],
      "source": [
        "# Plot your data\n",
        "\n",
        "import matplotlib.pyplot as plt\n",
        "acc = history.history['accuracy']\n",
        "val_acc = history.history['val_accuracy']\n",
        "loss = history.history['loss']\n",
        "val_loss = history.history['val_loss']\n",
        "\n",
        "epochs = range(len(acc))\n",
        "\n",
        "plt.plot(epochs, acc, 'r', label='Training accuracy')\n",
        "plt.plot(epochs, val_acc, 'b', label='Validation accuracy')\n",
        "plt.title('Training and validation accuracy')\n",
        "plt.legend()\n",
        "\n",
        "plt.figure()\n",
        "\n",
        "plt.plot(epochs, loss, 'r', label='Training Loss')\n",
        "plt.plot(epochs, val_loss, 'b', label='Validation Loss')\n",
        "plt.title('Training and validation loss')\n",
        "plt.legend()\n",
        "\n",
        "plt.show()"
      ]
    },
    {
      "cell_type": "markdown",
      "metadata": {
        "id": "AuYuFPc3YMZt"
      },
      "source": [
        "### Evaluate results"
      ]
    },
    {
      "cell_type": "code",
      "execution_count": 26,
      "metadata": {
        "id": "9s6DzHwXYMZu",
        "colab": {
          "base_uri": "https://localhost:8080/"
        },
        "outputId": "b33d7199-26e1-41e9-d05f-8c9822d2a2e2"
      },
      "outputs": [
        {
          "output_type": "stream",
          "name": "stdout",
          "text": [
            "1/1 [==============================] - 0s 27ms/step - loss: 0.7719 - accuracy: 0.3913\n"
          ]
        },
        {
          "output_type": "execute_result",
          "data": {
            "text/plain": [
              "[0.7718790173530579, 0.3913043439388275]"
            ]
          },
          "metadata": {},
          "execution_count": 26
        }
      ],
      "source": [
        "# Evaluate your model on the test data\n",
        "\n",
        "\n",
        "########################\n",
        "## PUT YOUR CODE HERE ##\n",
        "########################\n",
        "model1.evaluate(x_test, y_test)\n"
      ]
    },
    {
      "cell_type": "markdown",
      "metadata": {
        "id": "LMZ9tO5DYMZv"
      },
      "source": [
        "# Compare results with and without using agumentation\n",
        "### Now we need to do agumentation to create more images to help us overcome underfitting"
      ]
    },
    {
      "cell_type": "markdown",
      "metadata": {
        "id": "w49AqQvdYMZw"
      },
      "source": [
        "### Agumentation Methods\n",
        "Here you should do the agumentation methods to produce more images\n"
      ]
    },
    {
      "cell_type": "code",
      "execution_count": 27,
      "metadata": {
        "id": "T6Y6_veDcNwt"
      },
      "outputs": [],
      "source": [
        "# In this cell you need to implement agumentation methods to increase our data\n",
        "# NOTICE! Only use libraries in CV2 or others, DON'T use KERAS and Pytorch!\n",
        "\n",
        "\n",
        "def fill(img, h, w):\n",
        "    ''' \n",
        "    we use this function to resize the shifted image and fill border pixles with different methods\n",
        "    \n",
        "    arguments \n",
        "    input img: a Numpy ndarray from any size of h * w * ch\n",
        "          h: an integer defining the height of target image\n",
        "          w: an integer defining the width of target image\n",
        "    \n",
        "    output: resized and interpolated image \n",
        "\n",
        "    '''\n",
        "        \n",
        "    img = cv2.resize(img, (h, w), cv2.INTER_CUBIC)\n",
        "    return img\n",
        "\n",
        "\n",
        "def horizontal_shift(img, ratio=0.5):\n",
        "\n",
        "    ''' \n",
        "    we use this function to shift the image horizontally with the given ratio\n",
        "    width_target = width_input - ratio * width_input\n",
        "    \n",
        "    Hint: select ratio in range (-ratio to ratio) uniformly, to simulate horizontally shift to right and left with different ratios\n",
        "\n",
        "\n",
        "    arguments \n",
        "    input img: a Numpy ndarray from any size of h * w * ch\n",
        "          ratio: a float number between 0 and 1\n",
        "    \n",
        "    output: resized and interpolated image \n",
        "\n",
        "    '''\n",
        "    \n",
        "    if ratio > 1 or ratio < 0:\n",
        "        print('Value should be less than 1 and greater than 0')\n",
        "        return img\n",
        "    ratio = random.uniform(-ratio, ratio) # you can change this\n",
        "    h, w = img.shape[:2]\n",
        "    to_shift = w*ratio\n",
        "    if ratio > 0:\n",
        "        img = img[:, :int(w-to_shift), :]\n",
        "    if ratio < 0:\n",
        "        img = img[:, int(-1*to_shift):, :]\n",
        "\n",
        "    img = fill(img, h, w) # fill image borders\n",
        "\n",
        "    return img\n"
      ]
    },
    {
      "cell_type": "code",
      "execution_count": 28,
      "metadata": {
        "id": "cmDF6i2kdKli"
      },
      "outputs": [],
      "source": [
        "    \n",
        "def vertical_shift(img, ratio=0.5):\n",
        "\n",
        "    ''' \n",
        "    we use this function to shift the image vertically with the given ratio\n",
        "    width_target = width_input - ratio * width_input\n",
        "    \n",
        "    Hint: select ratio in range (-ratio to ratio) uniformly, to simulate vertically shift to up and down with different ratios\n",
        "\n",
        "\n",
        "    arguments \n",
        "    input img: a Numpy ndarray from any size of h * w * ch\n",
        "          ratio: a float number between 0 and 1\n",
        "    \n",
        "    output: resized and interpolated image \n",
        "\n",
        "    '''\n",
        "\n",
        "    if ratio > 1 or ratio < 0:\n",
        "        print('Value should be less than 1 and greater than 0')\n",
        "        return img\n",
        "    ratio = random.uniform(-ratio, ratio)\n",
        "    h, w = img.shape[:2]\n",
        "    to_shift = h*ratio\n",
        "    if ratio > 0:\n",
        "        img = img[:int(h-to_shift), :, :]\n",
        "    if ratio < 0:\n",
        "        img = img[int(-1*to_shift):, :, :]\n",
        "        \n",
        "    img = fill(img, h, w)\n",
        "\n",
        "    return img\n",
        "\n"
      ]
    },
    {
      "cell_type": "code",
      "execution_count": 29,
      "metadata": {
        "id": "pJ31WDBQdNhz"
      },
      "outputs": [],
      "source": [
        "def brightness(img, low, high):\n",
        "\n",
        "    ''' \n",
        "    we use this function to change the brightness of the image with given high and low values\n",
        "    \n",
        "    Hint: first convert to HSV color domain, Next make your image brighter or darker then convert back to BGR\n",
        "\n",
        "    arguments \n",
        "    input img: a Numpy ndarray from any size of h * w * ch\n",
        "          low:\n",
        "          high:\n",
        "    \n",
        "    output: image with different brightness\n",
        "\n",
        "    '''\n",
        "\n",
        "    value = random.uniform(low, high)\n",
        "    hsv = cv2.cvtColor(img, cv2.COLOR_BGR2HSV)\n",
        "    hsv = np.array(hsv, dtype = np.float64)\n",
        "    hsv[:,:,1] = hsv[:,:,1]*value\n",
        "    hsv[:,:,1][hsv[:,:,1]>255]  = 255\n",
        "    hsv[:,:,2] = hsv[:,:,2]*value \n",
        "    hsv[:,:,2][hsv[:,:,2]>255]  = 255\n",
        "    hsv = np.array(hsv, dtype = np.uint8)\n",
        "    img = cv2.cvtColor(hsv, cv2.COLOR_HSV2BGR)\n",
        "    \n",
        "    return img"
      ]
    },
    {
      "cell_type": "code",
      "execution_count": 30,
      "metadata": {
        "id": "buuw_F7Bdaq-"
      },
      "outputs": [],
      "source": [
        "\n",
        "def zoom(img, value):\n",
        "\n",
        "    ''' \n",
        "    we use this function to zoom the image with given value\n",
        "    \n",
        "    arguments \n",
        "    input img: a Numpy ndarray from any size of h * w * ch\n",
        "          value: an integer number indicating the zoom effect\n",
        "    \n",
        "    output: zoomed image\n",
        "\n",
        "    '''\n",
        "    \n",
        "    if value > 1 or value < 0:\n",
        "        print('Value for zoom should be less than 1 and greater than 0')\n",
        "        return img\n",
        "    value = random.uniform(value, 1)\n",
        "    h, w = img.shape[:2]\n",
        "    h_taken = int(value*h)\n",
        "    w_taken = int(value*w)\n",
        "    h_start = random.randint(0, h-h_taken)\n",
        "    w_start = random.randint(0, w-w_taken)\n",
        "    img = img[h_start:h_start+h_taken, w_start:w_start+w_taken, :]\n",
        "    \n",
        "    img = fill(img, h, w)\n",
        "\n",
        "    return img"
      ]
    },
    {
      "cell_type": "code",
      "execution_count": 31,
      "metadata": {
        "id": "dRQTWQiYde3-"
      },
      "outputs": [],
      "source": [
        "def channel_shift(img, value):\n",
        "\n",
        "    ''' \n",
        "    we use this function to shift color channels to play with colors in the image\n",
        "    \n",
        "    arguments \n",
        "    input img: a Numpy ndarray from any size of h * w * ch\n",
        "          value: an integer number indicating the color change effect\n",
        "    \n",
        "    output: image with changed colors\n",
        "\n",
        "    '''\n",
        "    \n",
        "    value = int(random.uniform(-value, value))\n",
        "    img = img + value\n",
        "    img[:,:,:][img[:,:,:]>255]  = 255\n",
        "    img[:,:,:][img[:,:,:]<0]  = 0\n",
        "    img = img.astype(np.uint8)\n",
        "    \n",
        "    return img"
      ]
    },
    {
      "cell_type": "code",
      "execution_count": 32,
      "metadata": {
        "id": "-8fUbL8odizd"
      },
      "outputs": [],
      "source": [
        "def horizontal_flip(img):\n",
        "\n",
        "    ''' \n",
        "    we use this function to flip the image horizontally\n",
        "\n",
        "    arguments \n",
        "    input img: a Numpy ndarray from any size of h * w * ch\n",
        "    \n",
        "    output: horizontally fliped image\n",
        "\n",
        "    '''\n",
        "\n",
        "    return cv2.flip(img, 1)\n"
      ]
    },
    {
      "cell_type": "code",
      "execution_count": 33,
      "metadata": {
        "id": "_oXvmff4dtd7"
      },
      "outputs": [],
      "source": [
        "def vertical_flip(img):\n",
        "\n",
        "    ''' \n",
        "    we use this function to flip the image vertically\n",
        "    \n",
        "    arguments \n",
        "    input img: a Numpy ndarray from any size of h * w * ch\n",
        "    \n",
        "    output: vertically fliped image\n",
        "\n",
        "    '''\n",
        "    \n",
        "    return cv2.flip(img, 0)\n"
      ]
    },
    {
      "cell_type": "markdown",
      "metadata": {
        "id": "qBgd_9vvYMZ3"
      },
      "source": [
        "### Prepare your dataset"
      ]
    },
    {
      "cell_type": "code",
      "execution_count": 34,
      "metadata": {
        "id": "AiAQnha9dwJ8"
      },
      "outputs": [],
      "source": [
        "# For each image in our dataset run the previous methods and create a new dataset\n",
        "\n",
        "    ########################\n",
        "    ## PUT YOUR CODE HERE ##\n",
        "    ########################\n",
        "\n",
        "aug_images = []\n",
        "for img in images:\n",
        "    aug_images.append(img)\n",
        "\n",
        "    img2 = horizontal_shift(image)\n",
        "    aug_images.append(img2)\n",
        "\n",
        "    img3 = vertical_shift(image)\n",
        "    aug_images.append(img3)\n",
        "\n",
        "    img4 = brightness(image, 10, 30)\n",
        "    aug_images.append(img4)\n",
        "\n",
        "    img5 = zoom(image, 0.3)\n",
        "    aug_images.append(img5)\n",
        "\n",
        "    img6 = channel_shift(image, 5)\n",
        "    aug_images.append(img6)\n",
        "\n",
        "    img7 = horizontal_flip(image)\n",
        "    aug_images.append(img7)\n",
        "\n",
        "    img8 = vertical_flip(image)\n",
        "    aug_images.append(img8)\n"
      ]
    },
    {
      "cell_type": "code",
      "execution_count": 35,
      "metadata": {
        "id": "INX5G0lfgOz4"
      },
      "outputs": [],
      "source": [
        "\n",
        "# Extend your labels array new size with correct labels maped to each agumented image\n",
        "\n",
        "    ########################\n",
        "    ## PUT YOUR CODE HERE ##\n",
        "    ########################\n",
        "aug_labels = []\n",
        "for l in labels:\n",
        "  for i in range(0, 8):\n",
        "    aug_labels.append(l)\n"
      ]
    },
    {
      "cell_type": "code",
      "execution_count": 36,
      "metadata": {
        "id": "mCxvw9TPYMZ5"
      },
      "outputs": [],
      "source": [
        "# Normalize your dataset in a way to have a image dataset with pixles in range (0 to 1)\n",
        "\n",
        "########################\n",
        "## PUT YOUR CODE HERE ##\n",
        "########################\n",
        "aug_images = np.divide(aug_images, 255)\n",
        "x_train = np.array(aug_images)\n",
        "x_train = x_train.flatten().reshape(800, 2352)\n",
        "y_train = np.array(aug_labels)"
      ]
    },
    {
      "cell_type": "code",
      "execution_count": 37,
      "metadata": {
        "id": "XbOx2KQPYMZ7",
        "colab": {
          "base_uri": "https://localhost:8080/"
        },
        "outputId": "be00028c-6c82-4972-956a-a75ae28bd866"
      },
      "outputs": [
        {
          "output_type": "stream",
          "name": "stdout",
          "text": [
            "(800, 2352)\n",
            "(800,)\n"
          ]
        }
      ],
      "source": [
        "# Check your dataset and labels to be a numpy ndarray of sizes (800, 28 * 28 * 3) and (800, 1) respectively.\n",
        "\n",
        "\n",
        "########################\n",
        "## PUT YOUR CODE HERE ##\n",
        "########################\n",
        "print(x_train.shape)\n",
        "print(y_train.shape)"
      ]
    },
    {
      "cell_type": "markdown",
      "metadata": {
        "id": "bzHQxtMzYMZ7"
      },
      "source": [
        "### Create your model"
      ]
    },
    {
      "cell_type": "code",
      "execution_count": 38,
      "metadata": {
        "id": "SNqiKY_HYMZ8"
      },
      "outputs": [],
      "source": [
        "# create a simple model of Keras MLP with desired number of dense layers and units and activation function\n",
        "# don't forget to shuffle the data\n",
        "# this is a binary classification problem\n",
        "\n",
        "\n",
        "\n",
        "########################\n",
        "## PUT YOUR CODE HERE ##\n",
        "########################\n",
        "model2 = Sequential()\n",
        "model2.add(Dense(512, input_shape=(2352,), activation='relu'))\n",
        "model2.add(Dense(10, kernel_initializer='normal', activation='relu'))\n",
        "model2.add(Dense(1, kernel_initializer='normal', activation='sigmoid'))"
      ]
    },
    {
      "cell_type": "code",
      "execution_count": 39,
      "metadata": {
        "id": "NmBb2EmfYMZ9"
      },
      "outputs": [],
      "source": [
        "# Split your dataset to test and train with the desired implementation\n",
        "# use sklearn.model_selection.train_test_split\n",
        "\n",
        "\n",
        "########################\n",
        "## PUT YOUR CODE HERE ##\n",
        "########################\n",
        "x_train, x_test, y_train, y_test = train_test_split(x_train, y_train, test_size=0.33)"
      ]
    },
    {
      "cell_type": "code",
      "execution_count": 40,
      "metadata": {
        "id": "17Wajy49YMZ9",
        "colab": {
          "base_uri": "https://localhost:8080/"
        },
        "outputId": "ecf31d87-dab4-4446-b36c-34f98b9b94d7"
      },
      "outputs": [
        {
          "output_type": "stream",
          "name": "stdout",
          "text": [
            "Epoch 1/20\n",
            "86/86 [==============================] - 2s 12ms/step - loss: 0.6965 - accuracy: 0.4836 - val_loss: 0.6933 - val_accuracy: 0.4630\n",
            "Epoch 2/20\n",
            "86/86 [==============================] - 1s 13ms/step - loss: 0.6933 - accuracy: 0.5023 - val_loss: 0.6933 - val_accuracy: 0.4630\n",
            "Epoch 3/20\n",
            "86/86 [==============================] - 1s 13ms/step - loss: 0.6933 - accuracy: 0.4346 - val_loss: 0.6932 - val_accuracy: 0.4630\n",
            "Epoch 4/20\n",
            "86/86 [==============================] - 1s 10ms/step - loss: 0.6932 - accuracy: 0.5023 - val_loss: 0.6934 - val_accuracy: 0.4630\n",
            "Epoch 5/20\n",
            "86/86 [==============================] - 1s 13ms/step - loss: 0.6932 - accuracy: 0.5023 - val_loss: 0.6934 - val_accuracy: 0.4630\n",
            "Epoch 6/20\n",
            "86/86 [==============================] - 1s 11ms/step - loss: 0.6933 - accuracy: 0.5023 - val_loss: 0.6934 - val_accuracy: 0.4630\n",
            "Epoch 7/20\n",
            "86/86 [==============================] - 1s 13ms/step - loss: 0.6932 - accuracy: 0.5023 - val_loss: 0.6934 - val_accuracy: 0.4630\n",
            "Epoch 8/20\n",
            "86/86 [==============================] - 1s 11ms/step - loss: 0.6932 - accuracy: 0.5023 - val_loss: 0.6934 - val_accuracy: 0.4630\n",
            "Epoch 9/20\n",
            "86/86 [==============================] - 1s 13ms/step - loss: 0.6932 - accuracy: 0.5023 - val_loss: 0.6933 - val_accuracy: 0.4630\n",
            "Epoch 10/20\n",
            "86/86 [==============================] - 1s 10ms/step - loss: 0.6933 - accuracy: 0.5023 - val_loss: 0.6933 - val_accuracy: 0.4630\n",
            "Epoch 11/20\n",
            "86/86 [==============================] - 1s 10ms/step - loss: 0.6932 - accuracy: 0.5023 - val_loss: 0.6935 - val_accuracy: 0.4630\n",
            "Epoch 12/20\n",
            "86/86 [==============================] - 1s 10ms/step - loss: 0.6932 - accuracy: 0.5023 - val_loss: 0.6934 - val_accuracy: 0.4630\n",
            "Epoch 13/20\n",
            "86/86 [==============================] - 1s 10ms/step - loss: 0.6932 - accuracy: 0.5023 - val_loss: 0.6934 - val_accuracy: 0.4630\n",
            "Epoch 14/20\n",
            "86/86 [==============================] - 1s 10ms/step - loss: 0.6933 - accuracy: 0.5023 - val_loss: 0.6934 - val_accuracy: 0.4630\n",
            "Epoch 15/20\n",
            "86/86 [==============================] - 1s 10ms/step - loss: 0.6932 - accuracy: 0.5023 - val_loss: 0.6934 - val_accuracy: 0.4630\n",
            "Epoch 16/20\n",
            "86/86 [==============================] - 1s 13ms/step - loss: 0.6932 - accuracy: 0.5023 - val_loss: 0.6934 - val_accuracy: 0.4630\n",
            "Epoch 17/20\n",
            "86/86 [==============================] - 1s 13ms/step - loss: 0.6933 - accuracy: 0.5023 - val_loss: 0.6934 - val_accuracy: 0.4630\n",
            "Epoch 18/20\n",
            "86/86 [==============================] - 1s 11ms/step - loss: 0.6933 - accuracy: 0.5023 - val_loss: 0.6935 - val_accuracy: 0.4630\n",
            "Epoch 19/20\n",
            "86/86 [==============================] - 1s 10ms/step - loss: 0.6932 - accuracy: 0.5023 - val_loss: 0.6933 - val_accuracy: 0.4630\n",
            "Epoch 20/20\n",
            "86/86 [==============================] - 1s 10ms/step - loss: 0.6933 - accuracy: 0.5023 - val_loss: 0.6935 - val_accuracy: 0.4630\n"
          ]
        }
      ],
      "source": [
        "# Compile your model to introduce loss function optimizer and metrices to monitor accuracy metric and train on the data\n",
        "# Don't forget to monitor the overfitting, you should take care of val_accuracy and val_loss\n",
        "\n",
        "########################\n",
        "## PUT YOUR CODE HERE ##\n",
        "#\n",
        "# uncomment below and complete the code\n",
        "model2.compile(loss='binary_crossentropy', optimizer='adam', metrics=['accuracy'])\n",
        "# uncomment below and complete the code\n",
        "history = model2.fit(\n",
        "      x_train, y_train,\n",
        "      epochs=20,\n",
        "      batch_size=5,\n",
        "      validation_split=0.2,\n",
        "      shuffle=True,\n",
        "      verbose=1)\n",
        "\n"
      ]
    },
    {
      "cell_type": "markdown",
      "metadata": {
        "id": "HHwne9y5YMZ-"
      },
      "source": [
        "### Plot your results"
      ]
    },
    {
      "cell_type": "code",
      "execution_count": 41,
      "metadata": {
        "id": "5XkvuwlaYMZ-",
        "colab": {
          "base_uri": "https://localhost:8080/",
          "height": 545
        },
        "outputId": "6c5fbc2f-7525-419f-b6fe-7d6149123e75"
      },
      "outputs": [
        {
          "output_type": "display_data",
          "data": {
            "text/plain": [
              "<Figure size 432x288 with 1 Axes>"
            ],
            "image/png": "[encoded data removed]"
          },
          "metadata": {
            "needs_background": "light"
          }
        },
        {
          "output_type": "display_data",
          "data": {
            "text/plain": [
              "<Figure size 432x288 with 1 Axes>"
            ],
            "image/png": "[encoded data removed]"
          },
          "metadata": {
            "needs_background": "light"
          }
        }
      ],
      "source": [
        "# Plot your data\n",
        "\n",
        "import matplotlib.pyplot as plt\n",
        "acc = history.history['accuracy']\n",
        "val_acc = history.history['val_accuracy']\n",
        "loss = history.history['loss']\n",
        "val_loss = history.history['val_loss']\n",
        "\n",
        "epochs = range(len(acc))\n",
        "\n",
        "plt.plot(epochs, acc, 'r', label='Training accuracy')\n",
        "plt.plot(epochs, val_acc, 'b', label='Validation accuracy')\n",
        "plt.title('Training and validation accuracy')\n",
        "plt.legend()\n",
        "\n",
        "plt.figure()\n",
        "\n",
        "plt.plot(epochs, loss, 'r', label='Training Loss')\n",
        "plt.plot(epochs, val_loss, 'b', label='Validation Loss')\n",
        "plt.title('Training and validation loss')\n",
        "plt.legend()\n",
        "\n",
        "plt.show()"
      ]
    },
    {
      "cell_type": "markdown",
      "metadata": {
        "id": "81UC7f4NYMZ_"
      },
      "source": [
        "### Evaluate results"
      ]
    },
    {
      "cell_type": "code",
      "execution_count": 42,
      "metadata": {
        "id": "vBVnR2gpYMaA",
        "colab": {
          "base_uri": "https://localhost:8080/"
        },
        "outputId": "c6ae0939-4d12-4454-88b0-6e88376661cc"
      },
      "outputs": [
        {
          "output_type": "stream",
          "name": "stdout",
          "text": [
            "9/9 [==============================] - 0s 5ms/step - loss: 0.6931 - accuracy: 0.5114\n"
          ]
        },
        {
          "output_type": "execute_result",
          "data": {
            "text/plain": [
              "[0.6930540800094604, 0.5113636255264282]"
            ]
          },
          "metadata": {},
          "execution_count": 42
        }
      ],
      "source": [
        "# Evaluate your model on the test data\n",
        "\n",
        "\n",
        "########################\n",
        "## PUT YOUR CODE HERE ##\n",
        "########################\n",
        "model2.evaluate(x_test, y_test)"
      ]
    },
    {
      "cell_type": "markdown",
      "metadata": {
        "id": "C1Ez44FuYMaA"
      },
      "source": [
        "# Compare your results with and without using agumentation to see the difference"
      ]
    },
    {
      "cell_type": "markdown",
      "metadata": {
        "id": "rS3HX25WYMaA"
      },
      "source": [
        "## Optional Bonus Activity"
      ]
    },
    {
      "cell_type": "code",
      "execution_count": null,
      "metadata": {
        "id": "VuifPrHPm40L"
      },
      "outputs": [],
      "source": [
        "# Optional\n",
        "\n",
        "# Keras data Augmentation\n",
        "\n",
        "#use the bellow links\n",
        "\n",
        "# https://keras.io/guides/keras_cv/custom_image_augmentations/\n",
        "\n",
        "# https://keras.io/api/preprocessing/image/"
      ]
    },
    {
      "cell_type": "code",
      "execution_count": 43,
      "metadata": {
        "id": "KnJzql-edFlp",
        "colab": {
          "base_uri": "https://localhost:8080/"
        },
        "outputId": "9a5a53b8-6a78-4bf9-bf58-bee3324a87c1"
      },
      "outputs": [
        {
          "output_type": "stream",
          "name": "stdout",
          "text": [
            "Archive:  /content/images.zip\n",
            "   creating: data_aug/cat/\n",
            "  inflating: data_aug/cat/cat.10172.jpg  \n",
            "  inflating: data_aug/cat/cat.10195.jpg  \n",
            "  inflating: data_aug/cat/cat.1021.jpg  \n",
            "  inflating: data_aug/cat/cat.10949.jpg  \n",
            "  inflating: data_aug/cat/cat.11521.jpg  \n",
            "  inflating: data_aug/cat/cat.11535.jpg  \n",
            "  inflating: data_aug/cat/cat.11843.jpg  \n",
            "  inflating: data_aug/cat/cat.119.jpg  \n",
            "  inflating: data_aug/cat/cat.11946.jpg  \n",
            "  inflating: data_aug/cat/cat.11959.jpg  \n",
            "  inflating: data_aug/cat/cat.12263.jpg  \n",
            "  inflating: data_aug/cat/cat.12479.jpg  \n",
            "  inflating: data_aug/cat/cat.1666.jpg  \n",
            "  inflating: data_aug/cat/cat.1807.jpg  \n",
            "  inflating: data_aug/cat/cat.1848.jpg  \n",
            "  inflating: data_aug/cat/cat.2098.jpg  \n",
            "  inflating: data_aug/cat/cat.223.jpg  \n",
            "  inflating: data_aug/cat/cat.225.jpg  \n",
            "  inflating: data_aug/cat/cat.2326.jpg  \n",
            "  inflating: data_aug/cat/cat.2479.jpg  \n",
            "  inflating: data_aug/cat/cat.2482.jpg  \n",
            "  inflating: data_aug/cat/cat.2749.jpg  \n",
            "  inflating: data_aug/cat/cat.343.jpg  \n",
            "  inflating: data_aug/cat/cat.3469.jpg  \n",
            "  inflating: data_aug/cat/cat.3543.jpg  \n",
            "  inflating: data_aug/cat/cat.4071.jpg  \n",
            "  inflating: data_aug/cat/cat.4126.jpg  \n",
            "  inflating: data_aug/cat/cat.4177.jpg  \n",
            "  inflating: data_aug/cat/cat.4279.jpg  \n",
            "  inflating: data_aug/cat/cat.4344.jpg  \n",
            "  inflating: data_aug/cat/cat.4772.jpg  \n",
            "  inflating: data_aug/cat/cat.5005.jpg  \n",
            "  inflating: data_aug/cat/cat.5009.jpg  \n",
            "  inflating: data_aug/cat/cat.5077.jpg  \n",
            "  inflating: data_aug/cat/cat.6038.jpg  \n",
            "  inflating: data_aug/cat/cat.6706.jpg  \n",
            "  inflating: data_aug/cat/cat.6762.jpg  \n",
            "  inflating: data_aug/cat/cat.7305.jpg  \n",
            "  inflating: data_aug/cat/cat.7738.jpg  \n",
            "  inflating: data_aug/cat/cat.8309.jpg  \n",
            "  inflating: data_aug/cat/cat.8608.jpg  \n",
            "  inflating: data_aug/cat/cat.8740.jpg  \n",
            "  inflating: data_aug/cat/cat.8908.jpg  \n",
            "  inflating: data_aug/cat/cat.9239.jpg  \n",
            "  inflating: data_aug/cat/cat.9378.jpg  \n",
            "  inflating: data_aug/cat/cat.9499.jpg  \n",
            "  inflating: data_aug/cat/cat.9501.jpg  \n",
            "  inflating: data_aug/cat/cat.98.jpg  \n",
            "  inflating: data_aug/cat/cat.9860.jpg  \n",
            "  inflating: data_aug/cat/cat.9890.jpg  \n",
            "   creating: data_aug/dog/\n",
            "  inflating: data_aug/dog/dog.10221.jpg  \n",
            "  inflating: data_aug/dog/dog.10546.jpg  \n",
            "  inflating: data_aug/dog/dog.10890.jpg  \n",
            "  inflating: data_aug/dog/dog.11099.jpg  \n",
            "  inflating: data_aug/dog/dog.11154.jpg  \n",
            "  inflating: data_aug/dog/dog.11283.jpg  \n",
            "  inflating: data_aug/dog/dog.11634.jpg  \n",
            "  inflating: data_aug/dog/dog.11675.jpg  \n",
            "  inflating: data_aug/dog/dog.11777.jpg  \n",
            "  inflating: data_aug/dog/dog.11833.jpg  \n",
            "  inflating: data_aug/dog/dog.12029.jpg  \n",
            "  inflating: data_aug/dog/dog.12031.jpg  \n",
            "  inflating: data_aug/dog/dog.12181.jpg  \n",
            "  inflating: data_aug/dog/dog.12247.jpg  \n",
            "  inflating: data_aug/dog/dog.12399.jpg  \n",
            "  inflating: data_aug/dog/dog.1687.jpg  \n",
            "  inflating: data_aug/dog/dog.1781.jpg  \n",
            "  inflating: data_aug/dog/dog.1989.jpg  \n",
            "  inflating: data_aug/dog/dog.2078.jpg  \n",
            "  inflating: data_aug/dog/dog.2092.jpg  \n",
            "  inflating: data_aug/dog/dog.2242.jpg  \n",
            "  inflating: data_aug/dog/dog.2793.jpg  \n",
            "  inflating: data_aug/dog/dog.301.jpg  \n",
            "  inflating: data_aug/dog/dog.3048.jpg  \n",
            "  inflating: data_aug/dog/dog.306.jpg  \n",
            "  inflating: data_aug/dog/dog.3565.jpg  \n",
            "  inflating: data_aug/dog/dog.3788.jpg  \n",
            "  inflating: data_aug/dog/dog.42.jpg  \n",
            "  inflating: data_aug/dog/dog.4439.jpg  \n",
            "  inflating: data_aug/dog/dog.5657.jpg  \n",
            "  inflating: data_aug/dog/dog.5920.jpg  \n",
            "  inflating: data_aug/dog/dog.6132.jpg  \n",
            "  inflating: data_aug/dog/dog.6219.jpg  \n",
            "  inflating: data_aug/dog/dog.6503.jpg  \n",
            "  inflating: data_aug/dog/dog.658.jpg  \n",
            "  inflating: data_aug/dog/dog.6891.jpg  \n",
            "  inflating: data_aug/dog/dog.6892.jpg  \n",
            "  inflating: data_aug/dog/dog.6966.jpg  \n",
            "  inflating: data_aug/dog/dog.699.jpg  \n",
            "  inflating: data_aug/dog/dog.7487.jpg  \n",
            "  inflating: data_aug/dog/dog.7778.jpg  \n",
            "  inflating: data_aug/dog/dog.8228.jpg  \n",
            "  inflating: data_aug/dog/dog.8296.jpg  \n",
            "  inflating: data_aug/dog/dog.8629.jpg  \n",
            "  inflating: data_aug/dog/dog.8715.jpg  \n",
            "  inflating: data_aug/dog/dog.91.jpg  \n",
            "  inflating: data_aug/dog/dog.9326.jpg  \n",
            "  inflating: data_aug/dog/dog.9374.jpg  \n",
            "  inflating: data_aug/dog/dog.9440.jpg  \n",
            "  inflating: data_aug/dog/dog.9719.jpg  \n"
          ]
        }
      ],
      "source": [
        "# First we should read all the images from the provided directory,\n",
        "# 1. first unzip the .zip file attached with homeworks\n",
        "# 2. read images from directory\n",
        "# 3. create labels array\n",
        "\n",
        "\n",
        "\n",
        "########################\n",
        "## PUT YOUR CODE HERE ##\n",
        "########################\n",
        "data_dir='/content/data_aug'\n",
        "!unzip '/content/images.zip'\n"
      ]
    },
    {
      "cell_type": "code",
      "execution_count": 44,
      "metadata": {
        "id": "WJvVTTO1gwr4",
        "colab": {
          "base_uri": "https://localhost:8080/"
        },
        "outputId": "2f1d8116-8869-4fb3-8213-7615fa159243"
      },
      "outputs": [
        {
          "output_type": "stream",
          "name": "stdout",
          "text": [
            "Found 100 files belonging to 2 classes.\n"
          ]
        }
      ],
      "source": [
        "# Resize your images to (28 * 28)\n",
        "\n",
        "\n",
        "########################\n",
        "## PUT YOUR CODE HERE ##\n",
        "########################\n",
        "ds = tf.keras.utils.image_dataset_from_directory(\n",
        "  data_dir,\n",
        "  seed=123,\n",
        "  image_size=(28, 28),\n",
        "  batch_size=100)\n"
      ]
    },
    {
      "cell_type": "code",
      "source": [
        "print(len(os.listdir('/content/data_aug/dog')))\n",
        "print(len(os.listdir('/content/data_aug/cat')))"
      ],
      "metadata": {
        "colab": {
          "base_uri": "https://localhost:8080/"
        },
        "id": "HgkAUawpaHAb",
        "outputId": "fdeb9252-38da-4124-8c90-f329a0877be8"
      },
      "execution_count": 45,
      "outputs": [
        {
          "output_type": "stream",
          "name": "stdout",
          "text": [
            "50\n",
            "50\n"
          ]
        }
      ]
    },
    {
      "cell_type": "code",
      "source": [
        "class_names = ds.class_names\n",
        "print(class_names)"
      ],
      "metadata": {
        "colab": {
          "base_uri": "https://localhost:8080/"
        },
        "id": "11VMoRn7a4Ho",
        "outputId": "d197a3bd-8792-4617-eb03-5275676fd095"
      },
      "execution_count": 46,
      "outputs": [
        {
          "output_type": "stream",
          "name": "stdout",
          "text": [
            "['cat', 'dog']\n"
          ]
        }
      ]
    },
    {
      "cell_type": "code",
      "source": [
        "plt.figure(figsize=(10, 10))\n",
        "for images, labels in ds.take(1):\n",
        "  for i in range(9):\n",
        "    ax = plt.subplot(3, 3, i + 1)\n",
        "    plt.imshow(images[i].numpy().astype(\"uint8\"))\n",
        "    plt.title(class_names[labels[i]])\n",
        "    plt.axis(\"off\")"
      ],
      "metadata": {
        "colab": {
          "base_uri": "https://localhost:8080/",
          "height": 591
        },
        "id": "20-G0fiWbJfy",
        "outputId": "2cc6a8ad-03af-436d-ed6d-8387771f1a89"
      },
      "execution_count": 47,
      "outputs": [
        {
          "output_type": "display_data",
          "data": {
            "text/plain": [
              "<Figure size 720x720 with 9 Axes>"
            ],
            "image/png": "[encoded data removed]"
          },
          "metadata": {
            "needs_background": "light"
          }
        }
      ]
    },
    {
      "cell_type": "code",
      "execution_count": 48,
      "metadata": {
        "id": "YC-_5hy7iQy7",
        "colab": {
          "base_uri": "https://localhost:8080/"
        },
        "outputId": "6843f859-9639-449e-bc07-144ea9390af5"
      },
      "outputs": [
        {
          "output_type": "stream",
          "name": "stdout",
          "text": [
            "(100, 28, 28, 3)\n",
            "(100,)\n"
          ]
        }
      ],
      "source": [
        "# Check your dataset and labels to be a numpy ndarray of sizes (100, 28 * 28 * 3) and (100, 1) respectively.\n",
        "\n",
        "\n",
        "########################\n",
        "## PUT YOUR CODE HERE ##\n",
        "########################\n",
        "for image_batch, labels_batch in ds:\n",
        "  print(image_batch.shape)\n",
        "  print(labels_batch.shape)\n",
        "  break"
      ]
    },
    {
      "cell_type": "code",
      "execution_count": 49,
      "metadata": {
        "id": "AhInWVpUeqI2"
      },
      "outputs": [],
      "source": [
        "# Normalize your dataset in a way to have a image dataset with pixles in range (0 to 1)\n",
        "\n",
        "########################\n",
        "## PUT YOUR CODE HERE ##\n",
        "########################\n",
        "normalization_layer = tf.keras.layers.Rescaling(1./255)\n",
        "normalized_ds = ds.map(lambda x, y: (normalization_layer(x), y))\n",
        "x_train, y_train = next(iter(normalized_ds))\n"
      ]
    },
    {
      "cell_type": "code",
      "execution_count": 50,
      "metadata": {
        "id": "hHAp88v5hjOX",
        "colab": {
          "base_uri": "https://localhost:8080/"
        },
        "outputId": "a0bdfd96-bde8-46e5-87a2-355f51582a6e"
      },
      "outputs": [
        {
          "output_type": "stream",
          "name": "stdout",
          "text": [
            "(100, 2352)\n",
            "(100,)\n"
          ]
        }
      ],
      "source": [
        "# Flatten your dataset images \n",
        "\n",
        "\n",
        "########################\n",
        "## PUT YOUR CODE HERE ##\n",
        "########################\n",
        "x_train = np.array(x_train)\n",
        "y_train = np.array(y_train)\n",
        "x_train = x_train.flatten().reshape(100, 2352)\n",
        "print(x_train.shape)\n",
        "print(y_train.shape)"
      ]
    },
    {
      "cell_type": "code",
      "source": [
        "from tensorflow.keras import layers"
      ],
      "metadata": {
        "id": "wXhAxd65Xy0X"
      },
      "execution_count": 51,
      "outputs": []
    },
    {
      "cell_type": "code",
      "source": [
        "data_augmentation = tf.keras.Sequential([\n",
        "  layers.RandomFlip(\"horizontal_and_vertical\"),\n",
        "  layers.RandomRotation(0.2),\n",
        "])"
      ],
      "metadata": {
        "id": "dU9oTqjLXsEh"
      },
      "execution_count": 52,
      "outputs": []
    },
    {
      "cell_type": "code",
      "source": [
        "IMG_SIZE = 25\n",
        "resize = tf.keras.Sequential([\n",
        "  layers.Resizing(IMG_SIZE, IMG_SIZE)\n",
        "])"
      ],
      "metadata": {
        "id": "mMEcU1BVX-4s"
      },
      "execution_count": 56,
      "outputs": []
    },
    {
      "cell_type": "code",
      "source": [
        "# create a simple model of Keras MLP with desired number of dense layers and units and activation function\n",
        "# don't forget to shuffle the data\n",
        "# this is a binary classification problem\n",
        "\n",
        "\n",
        "\n",
        "########################\n",
        "## PUT YOUR CODE HERE ##\n",
        "########################\n",
        "model3 = tf.keras.Sequential([\n",
        "  Dense(512, input_shape=(2352,), activation='relu'),\n",
        "  Dense(10, kernel_initializer='normal', activation='relu'),\n",
        "  Dense(1, kernel_initializer='normal', activation='sigmoid')\n",
        "])\n"
      ],
      "metadata": {
        "id": "c4s2xNnFa4S6"
      },
      "execution_count": 65,
      "outputs": []
    },
    {
      "cell_type": "code",
      "source": [
        "# Split your dataset to test and train with the desired implementation\n",
        "# use sklearn.model_selection.train_test_split\n",
        "\n",
        "\n",
        "########################\n",
        "## PUT YOUR CODE HERE ##\n",
        "########################\n",
        "x_train, x_test, y_train, y_test = train_test_split(x_train, y_train, test_size=0.33)"
      ],
      "metadata": {
        "id": "n_-yxRqJbgev"
      },
      "execution_count": 61,
      "outputs": []
    },
    {
      "cell_type": "code",
      "source": [
        "# Compile your model to introduce loss function optimizer and metrices to monitor accuracy metric and train on the data\n",
        "# Don't forget to monitor the overfitting, you should take care of val_accuracy and val_loss\n",
        "\n",
        "########################\n",
        "## PUT YOUR CODE HERE ##\n",
        "#\n",
        "# uncomment below and complete the code\n",
        "model3.compile(loss='binary_crossentropy', optimizer='adam', metrics=['accuracy'])\n",
        "# uncomment below and complete the code\n",
        "history = model3.fit(\n",
        "      x_train, y_train,\n",
        "      epochs=20,\n",
        "      batch_size=5,\n",
        "      validation_split=0.2,\n",
        "      shuffle=True,\n",
        "      verbose=1)"
      ],
      "metadata": {
        "colab": {
          "base_uri": "https://localhost:8080/"
        },
        "id": "JAf44fPCbigt",
        "outputId": "133ec580-b3d4-4b12-f500-7033a64cea6f"
      },
      "execution_count": 67,
      "outputs": [
        {
          "output_type": "stream",
          "name": "stdout",
          "text": [
            "Epoch 1/20\n",
            "11/11 [==============================] - 2s 67ms/step - loss: 0.4734 - accuracy: 0.7736 - val_loss: 0.7761 - val_accuracy: 0.5000\n",
            "Epoch 2/20\n",
            "11/11 [==============================] - 0s 28ms/step - loss: 0.4577 - accuracy: 0.8302 - val_loss: 0.9526 - val_accuracy: 0.4286\n",
            "Epoch 3/20\n",
            "11/11 [==============================] - 0s 28ms/step - loss: 0.4666 - accuracy: 0.8491 - val_loss: 0.7959 - val_accuracy: 0.5000\n",
            "Epoch 4/20\n",
            "11/11 [==============================] - 0s 29ms/step - loss: 0.4434 - accuracy: 0.7736 - val_loss: 1.0509 - val_accuracy: 0.4286\n",
            "Epoch 5/20\n",
            "11/11 [==============================] - 0s 24ms/step - loss: 0.4336 - accuracy: 0.7925 - val_loss: 0.8052 - val_accuracy: 0.5714\n",
            "Epoch 6/20\n",
            "11/11 [==============================] - 0s 24ms/step - loss: 0.4282 - accuracy: 0.7736 - val_loss: 1.2386 - val_accuracy: 0.4286\n",
            "Epoch 7/20\n",
            "11/11 [==============================] - 0s 16ms/step - loss: 0.4567 - accuracy: 0.7925 - val_loss: 0.8511 - val_accuracy: 0.5000\n",
            "Epoch 8/20\n",
            "11/11 [==============================] - 0s 32ms/step - loss: 0.4096 - accuracy: 0.7736 - val_loss: 0.9158 - val_accuracy: 0.5000\n",
            "Epoch 9/20\n",
            "11/11 [==============================] - 0s 33ms/step - loss: 0.4613 - accuracy: 0.7925 - val_loss: 0.9227 - val_accuracy: 0.4286\n",
            "Epoch 10/20\n",
            "11/11 [==============================] - 0s 24ms/step - loss: 0.4062 - accuracy: 0.7925 - val_loss: 1.1637 - val_accuracy: 0.4286\n",
            "Epoch 11/20\n",
            "11/11 [==============================] - 0s 21ms/step - loss: 0.4068 - accuracy: 0.8302 - val_loss: 1.0839 - val_accuracy: 0.4286\n",
            "Epoch 12/20\n",
            "11/11 [==============================] - 0s 25ms/step - loss: 0.3948 - accuracy: 0.7925 - val_loss: 0.9835 - val_accuracy: 0.5000\n",
            "Epoch 13/20\n",
            "11/11 [==============================] - 0s 33ms/step - loss: 0.3888 - accuracy: 0.8868 - val_loss: 1.0245 - val_accuracy: 0.4286\n",
            "Epoch 14/20\n",
            "11/11 [==============================] - 0s 34ms/step - loss: 0.3792 - accuracy: 0.8679 - val_loss: 1.3065 - val_accuracy: 0.4286\n",
            "Epoch 15/20\n",
            "11/11 [==============================] - 0s 24ms/step - loss: 0.3870 - accuracy: 0.8302 - val_loss: 0.7986 - val_accuracy: 0.5714\n",
            "Epoch 16/20\n",
            "11/11 [==============================] - 0s 14ms/step - loss: 0.4252 - accuracy: 0.8491 - val_loss: 1.3657 - val_accuracy: 0.4286\n",
            "Epoch 17/20\n",
            "11/11 [==============================] - 0s 13ms/step - loss: 0.4925 - accuracy: 0.7547 - val_loss: 0.6413 - val_accuracy: 0.5714\n",
            "Epoch 18/20\n",
            "11/11 [==============================] - 0s 14ms/step - loss: 0.4487 - accuracy: 0.8113 - val_loss: 2.0114 - val_accuracy: 0.4286\n",
            "Epoch 19/20\n",
            "11/11 [==============================] - 0s 16ms/step - loss: 0.4408 - accuracy: 0.8491 - val_loss: 0.7461 - val_accuracy: 0.4286\n",
            "Epoch 20/20\n",
            "11/11 [==============================] - 0s 16ms/step - loss: 0.4081 - accuracy: 0.8679 - val_loss: 1.2465 - val_accuracy: 0.4286\n"
          ]
        }
      ]
    }
  ],
  "metadata": {
    "colab": {
      "provenance": [],
      "collapsed_sections": [
        "bzHQxtMzYMZ7",
        "HHwne9y5YMZ-",
        "81UC7f4NYMZ_"
      ]
    },
    "kernelspec": {
      "display_name": "Python 3.10.4 64-bit",
      "language": "python",
      "name": "python3"
    },
    "language_info": {
      "codemirror_mode": {
        "name": "ipython",
        "version": 3
      },
      "file_extension": ".py",
      "mimetype": "text/x-python",
      "name": "python",
      "nbconvert_exporter": "python",
      "pygments_lexer": "ipython3",
      "version": "3.10.4"
    },
    "vscode": {
      "interpreter": {
        "hash": "4ee546d62f846516ddb8e27534e16a3e95e555642571b21ccffd475d8dbd5c7d"
      }
    }
  },
  "nbformat": 4,
  "nbformat_minor": 0
}