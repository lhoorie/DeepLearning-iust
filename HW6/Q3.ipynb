{
  "cells": [
    {
      "cell_type": "code",
      "execution_count": 1,
      "metadata": {
        "id": "zmxo2g4QGjOh"
      },
      "outputs": [],
      "source": [
        "import cv2\n",
        "import numpy as np\n",
        "from matplotlib import pyplot as plt\n",
        "from tensorflow import keras\n",
        "import tensorflow\n",
        "from tensorflow.keras.utils import to_categorical\n",
        "from keras.layers import Conv2D, MaxPooling2D, Dense, Flatten, BatchNormalization, Dropout, Input, Activation"
      ]
    },
    {
      "cell_type": "markdown",
      "metadata": {
        "id": "bSXHDbbZLHZ0"
      },
      "source": [
        "# prepare data"
      ]
    },
    {
      "cell_type": "code",
      "execution_count": 2,
      "metadata": {
        "colab": {
          "base_uri": "https://localhost:8080/"
        },
        "id": "9-gUZ9ZwLHEH",
        "outputId": "063cca49-dc5d-407e-93e2-66a8d5c3036e"
      },
      "outputs": [
        {
          "output_type": "stream",
          "name": "stdout",
          "text": [
            "Downloading data from https://www.cs.toronto.edu/~kriz/cifar-10-python.tar.gz\n",
            "170498071/170498071 [==============================] - 4s 0us/step\n"
          ]
        },
        {
          "output_type": "stream",
          "name": "stderr",
          "text": [
            "<ipython-input-2-2c2ed39229d7>:3: DeprecationWarning: `np.bool` is a deprecated alias for the builtin `bool`. To silence this warning, use `bool` by itself. Doing this will not modify any behavior and is safe. If you specifically wanted the numpy scalar type, use `np.bool_` here.\n",
            "Deprecated in NumPy 1.20; for more details and guidance: https://numpy.org/devdocs/release/1.20.0-notes.html#deprecations\n",
            "  unlabeld_index = np.ones(y_train.shape, np.bool)\n"
          ]
        }
      ],
      "source": [
        "(x_train, y_train), (x_test, y_test) = keras.datasets.cifar10.load_data()\n",
        "\n",
        "unlabeld_index = np.ones(y_train.shape, np.bool)\n",
        "\n",
        "N = 20\n",
        "for i in range(10):\n",
        "  idx = np.where(y_train == i)[0][:N]\n",
        "  unlabeld_index[idx] = 0\n",
        "\n",
        "x_unlabeld = x_train[np.where(unlabeld_index)[0], ...]\n",
        "\n",
        "x_train = x_train[np.where(~unlabeld_index)[0], ...]\n",
        "y_train = y_train[np.where(~unlabeld_index)[0], ...]"
      ]
    },
    {
      "cell_type": "code",
      "execution_count": 3,
      "metadata": {
        "colab": {
          "base_uri": "https://localhost:8080/"
        },
        "id": "AdM1DXorH9eJ",
        "outputId": "8f4d477a-033d-4707-a839-40afe97fa307"
      },
      "outputs": [
        {
          "output_type": "stream",
          "name": "stdout",
          "text": [
            "0.051293306\n",
            "0.0\n",
            "0.0\n"
          ]
        }
      ],
      "source": [
        "# examples of categorical crossentropy\n",
        "cce = keras.losses.CategoricalCrossentropy()\n",
        "\n",
        "# a labeled data from the second class\n",
        "y_true = [[0, 1, 0, 0]]\n",
        "y_pred = [[0.05, 0.95, 0, 0]]\n",
        "print(cce(y_true, y_pred).numpy())\n",
        "\n",
        "# an ulabeled data\n",
        "y_true = [[0, 0, 0, 0]]\n",
        "y_pred = [[0.05, 0.95, 0, 0]]\n",
        "print(cce(y_true, y_pred).numpy())\n",
        "\n",
        "# another ulabeled data\n",
        "y_true = [[0, 0, 0, 0]]\n",
        "y_pred = [[0.1, 0.4, 0.3, 0.2]]\n",
        "print(cce(y_true, y_pred).numpy())"
      ]
    },
    {
      "cell_type": "markdown",
      "source": [
        "# **PART A**"
      ],
      "metadata": {
        "id": "KEyUUhad9ukw"
      }
    },
    {
      "cell_type": "code",
      "execution_count": 4,
      "metadata": {
        "id": "yY-oL20Wq6aX"
      },
      "outputs": [],
      "source": [
        "CLASSES = 10\n",
        "BATCH_SIZE = 32\n",
        "EPOCHS = 30\n",
        "INPUT_SHAPE = x_train.shape[1:]"
      ]
    },
    {
      "cell_type": "code",
      "execution_count": 5,
      "metadata": {
        "colab": {
          "base_uri": "https://localhost:8080/"
        },
        "id": "AD1bSvZNmvSO",
        "outputId": "79842b43-20a8-4ded-d7df-9929c016f368"
      },
      "outputs": [
        {
          "output_type": "stream",
          "name": "stdout",
          "text": [
            "X train:\n",
            " (200, 32, 32, 3) \n",
            "\n",
            "Y train:\n",
            " (200, 10)\n",
            "\n",
            "X test:\n",
            " (10000, 32, 32, 3) \n",
            "\n",
            "Y test:\n",
            " (10000, 10)\n"
          ]
        }
      ],
      "source": [
        "x_train = np.divide(x_train.astype('float32'), 255)\n",
        "x_test = np.divide(x_test.astype('float32'), 255)\n",
        "y_train = to_categorical(y_train, num_classes=CLASSES)\n",
        "y_test = to_categorical(y_test, num_classes=CLASSES)\n",
        "\n",
        "print(\"X train:\\n\", x_train.shape, \"\\n\\nY train:\\n\", y_train.shape)\n",
        "\n",
        "print(\"\\nX test:\\n\", x_test.shape, \"\\n\\nY test:\\n\", y_test.shape)"
      ]
    },
    {
      "cell_type": "code",
      "execution_count": 7,
      "metadata": {
        "colab": {
          "base_uri": "https://localhost:8080/"
        },
        "id": "0V1T2zRorCj1",
        "outputId": "1c959b00-da86-43c8-f404-47221a40a86f"
      },
      "outputs": [
        {
          "output_type": "stream",
          "name": "stdout",
          "text": [
            "Model: \"sequential\"\n",
            "_________________________________________________________________\n",
            " Layer (type)                Output Shape              Param #   \n",
            "=================================================================\n",
            " conv2d (Conv2D)             (None, 32, 32, 32)        2432      \n",
            "                                                                 \n",
            " activation (Activation)     (None, 32, 32, 32)        0         \n",
            "                                                                 \n",
            " batch_normalization (BatchN  (None, 32, 32, 32)       128       \n",
            " ormalization)                                                   \n",
            "                                                                 \n",
            " max_pooling2d (MaxPooling2D  (None, 16, 16, 32)       0         \n",
            " )                                                               \n",
            "                                                                 \n",
            " dropout (Dropout)           (None, 16, 16, 32)        0         \n",
            "                                                                 \n",
            " conv2d_1 (Conv2D)           (None, 16, 16, 64)        51264     \n",
            "                                                                 \n",
            " activation_1 (Activation)   (None, 16, 16, 64)        0         \n",
            "                                                                 \n",
            " batch_normalization_1 (Batc  (None, 16, 16, 64)       256       \n",
            " hNormalization)                                                 \n",
            "                                                                 \n",
            " max_pooling2d_1 (MaxPooling  (None, 8, 8, 64)         0         \n",
            " 2D)                                                             \n",
            "                                                                 \n",
            " dropout_1 (Dropout)         (None, 8, 8, 64)          0         \n",
            "                                                                 \n",
            " conv2d_2 (Conv2D)           (None, 8, 8, 128)         204928    \n",
            "                                                                 \n",
            " activation_2 (Activation)   (None, 8, 8, 128)         0         \n",
            "                                                                 \n",
            " batch_normalization_2 (Batc  (None, 8, 8, 128)        512       \n",
            " hNormalization)                                                 \n",
            "                                                                 \n",
            " max_pooling2d_2 (MaxPooling  (None, 4, 4, 128)        0         \n",
            " 2D)                                                             \n",
            "                                                                 \n",
            " dropout_2 (Dropout)         (None, 4, 4, 128)         0         \n",
            "                                                                 \n",
            " flatten (Flatten)           (None, 2048)              0         \n",
            "                                                                 \n",
            " dense (Dense)               (None, 512)               1049088   \n",
            "                                                                 \n",
            " activation_3 (Activation)   (None, 512)               0         \n",
            "                                                                 \n",
            " batch_normalization_3 (Batc  (None, 512)              2048      \n",
            " hNormalization)                                                 \n",
            "                                                                 \n",
            " dropout_3 (Dropout)         (None, 512)               0         \n",
            "                                                                 \n",
            " dense_1 (Dense)             (None, 10)                5130      \n",
            "                                                                 \n",
            " activation_4 (Activation)   (None, 10)                0         \n",
            "                                                                 \n",
            "=================================================================\n",
            "Total params: 1,315,786\n",
            "Trainable params: 1,314,314\n",
            "Non-trainable params: 1,472\n",
            "_________________________________________________________________\n"
          ]
        }
      ],
      "source": [
        "# Model\n",
        "model_a = tensorflow.keras.Sequential([Input(shape=INPUT_SHAPE),\n",
        "                                    Conv2D(32, (5, 5), padding=\"same\"),\n",
        "                                    Activation(\"relu\"),\n",
        "                                    BatchNormalization(axis=-1),\n",
        "                                    MaxPooling2D(pool_size=(2, 2)),\n",
        "                                    Dropout(0.25),\n",
        "                                    Conv2D(64, (5, 5), padding=\"same\"),\n",
        "                                    Activation(\"relu\"),\n",
        "                                    BatchNormalization(axis=-1),\n",
        "                                    MaxPooling2D(pool_size=(2, 2)),\n",
        "                                    Dropout(0.3),\n",
        "                                    Conv2D(128, (5, 5), padding=\"same\"),\n",
        "                                    Activation(\"relu\"),\n",
        "                                    BatchNormalization(axis=-1),\n",
        "                                    MaxPooling2D(pool_size=(2, 2)),\n",
        "                                    Dropout(0.3),\n",
        "                                    Flatten(),\n",
        "                                    Dense(512),\n",
        "                                    Activation(\"relu\"),\n",
        "                                    BatchNormalization(),\n",
        "                                    Dropout(0.3),\n",
        "                                    Dense(10),\n",
        "                                    Activation(\"softmax\"),\n",
        "                                    ])\n",
        "model_a.summary()"
      ]
    },
    {
      "cell_type": "code",
      "execution_count": null,
      "metadata": {
        "colab": {
          "base_uri": "https://localhost:8080/"
        },
        "id": "SajV4iyWsv2j",
        "outputId": "1f0e735c-cf1e-4d71-9ffd-c2c3ca104369"
      },
      "outputs": [
        {
          "name": "stdout",
          "output_type": "stream",
          "text": [
            "Epoch 1/30\n",
            "7/7 [==============================] - 11s 276ms/step - loss: 3.0087 - accuracy: 0.1500 - val_loss: 24.3879 - val_accuracy: 0.1012\n",
            "Epoch 2/30\n",
            "7/7 [==============================] - 1s 219ms/step - loss: 2.1555 - accuracy: 0.3250 - val_loss: 22.6548 - val_accuracy: 0.1106\n",
            "Epoch 3/30\n",
            "7/7 [==============================] - 3s 436ms/step - loss: 1.9188 - accuracy: 0.3950 - val_loss: 12.5693 - val_accuracy: 0.1470\n",
            "Epoch 4/30\n",
            "7/7 [==============================] - 1s 219ms/step - loss: 1.7515 - accuracy: 0.4200 - val_loss: 14.8233 - val_accuracy: 0.1123\n",
            "Epoch 5/30\n",
            "7/7 [==============================] - 1s 168ms/step - loss: 1.3706 - accuracy: 0.5400 - val_loss: 12.2588 - val_accuracy: 0.1560\n",
            "Epoch 6/30\n",
            "7/7 [==============================] - 1s 166ms/step - loss: 1.1725 - accuracy: 0.5750 - val_loss: 14.5783 - val_accuracy: 0.1205\n",
            "Epoch 7/30\n",
            "7/7 [==============================] - 1s 220ms/step - loss: 1.1125 - accuracy: 0.6050 - val_loss: 10.2781 - val_accuracy: 0.1475\n",
            "Epoch 8/30\n",
            "7/7 [==============================] - 1s 220ms/step - loss: 0.9581 - accuracy: 0.6600 - val_loss: 8.2199 - val_accuracy: 0.1480\n",
            "Epoch 9/30\n",
            "7/7 [==============================] - 1s 221ms/step - loss: 0.8694 - accuracy: 0.6900 - val_loss: 7.4172 - val_accuracy: 0.2089\n",
            "Epoch 10/30\n",
            "7/7 [==============================] - 1s 168ms/step - loss: 0.8607 - accuracy: 0.6750 - val_loss: 5.4945 - val_accuracy: 0.2175\n",
            "Epoch 11/30\n",
            "7/7 [==============================] - 1s 219ms/step - loss: 0.7634 - accuracy: 0.7100 - val_loss: 4.6684 - val_accuracy: 0.1973\n",
            "Epoch 12/30\n",
            "7/7 [==============================] - 1s 220ms/step - loss: 0.5518 - accuracy: 0.8450 - val_loss: 3.6870 - val_accuracy: 0.2377\n",
            "Epoch 13/30\n",
            "7/7 [==============================] - 1s 219ms/step - loss: 0.6532 - accuracy: 0.7750 - val_loss: 3.5914 - val_accuracy: 0.2711\n",
            "Epoch 14/30\n",
            "7/7 [==============================] - 1s 165ms/step - loss: 0.4969 - accuracy: 0.8100 - val_loss: 3.3247 - val_accuracy: 0.2884\n",
            "Epoch 15/30\n",
            "7/7 [==============================] - 1s 161ms/step - loss: 0.4855 - accuracy: 0.8300 - val_loss: 3.9131 - val_accuracy: 0.2635\n",
            "Epoch 16/30\n",
            "7/7 [==============================] - 1s 220ms/step - loss: 0.4549 - accuracy: 0.8800 - val_loss: 3.7308 - val_accuracy: 0.2616\n",
            "Epoch 17/30\n",
            "7/7 [==============================] - 1s 220ms/step - loss: 0.4451 - accuracy: 0.8550 - val_loss: 3.1864 - val_accuracy: 0.2874\n",
            "Epoch 18/30\n",
            "7/7 [==============================] - 1s 220ms/step - loss: 0.3809 - accuracy: 0.9100 - val_loss: 3.0649 - val_accuracy: 0.2781\n",
            "Epoch 19/30\n",
            "7/7 [==============================] - 1s 223ms/step - loss: 0.3802 - accuracy: 0.8850 - val_loss: 2.8743 - val_accuracy: 0.3200\n",
            "Epoch 20/30\n",
            "7/7 [==============================] - 1s 221ms/step - loss: 0.2897 - accuracy: 0.9400 - val_loss: 2.7515 - val_accuracy: 0.3281\n",
            "Epoch 21/30\n",
            "7/7 [==============================] - 1s 167ms/step - loss: 0.2910 - accuracy: 0.9050 - val_loss: 2.8128 - val_accuracy: 0.3215\n",
            "Epoch 22/30\n",
            "7/7 [==============================] - 1s 170ms/step - loss: 0.3027 - accuracy: 0.8850 - val_loss: 2.7583 - val_accuracy: 0.3193\n",
            "Epoch 23/30\n",
            "7/7 [==============================] - 1s 166ms/step - loss: 0.2848 - accuracy: 0.8950 - val_loss: 2.8017 - val_accuracy: 0.3120\n",
            "Epoch 24/30\n",
            "7/7 [==============================] - 1s 219ms/step - loss: 0.2824 - accuracy: 0.9100 - val_loss: 2.8676 - val_accuracy: 0.3164\n",
            "Epoch 25/30\n",
            "7/7 [==============================] - 1s 169ms/step - loss: 0.3098 - accuracy: 0.9000 - val_loss: 2.5743 - val_accuracy: 0.3367\n",
            "Epoch 26/30\n",
            "7/7 [==============================] - 1s 166ms/step - loss: 0.3501 - accuracy: 0.9000 - val_loss: 2.4535 - val_accuracy: 0.3429\n",
            "Epoch 27/30\n",
            "7/7 [==============================] - 1s 167ms/step - loss: 0.2658 - accuracy: 0.9000 - val_loss: 3.4297 - val_accuracy: 0.2359\n",
            "Epoch 28/30\n",
            "7/7 [==============================] - 1s 219ms/step - loss: 0.2518 - accuracy: 0.9200 - val_loss: 3.6064 - val_accuracy: 0.2423\n",
            "Epoch 29/30\n",
            "7/7 [==============================] - 1s 183ms/step - loss: 0.2620 - accuracy: 0.9300 - val_loss: 2.8864 - val_accuracy: 0.2940\n",
            "Epoch 30/30\n",
            "7/7 [==============================] - 1s 219ms/step - loss: 0.2912 - accuracy: 0.9200 - val_loss: 2.6941 - val_accuracy: 0.3253\n"
          ]
        }
      ],
      "source": [
        "model_a.compile(optimizer='adam', loss='categorical_crossentropy', metrics=['accuracy'])\n",
        "\n",
        "history = model_a.fit(x_train, y_train,\n",
        "                    batch_size=BATCH_SIZE,\n",
        "                    epochs=EPOCHS,\n",
        "                    validation_data=[x_test, y_test])"
      ]
    },
    {
      "cell_type": "code",
      "execution_count": null,
      "metadata": {
        "colab": {
          "base_uri": "https://localhost:8080/",
          "height": 573
        },
        "id": "VzEeuRZyynTu",
        "outputId": "86a72e59-affb-4666-9e2f-d12c6e230784"
      },
      "outputs": [
        {
          "output_type": "display_data",
          "data": {
            "text/plain": [
              "<Figure size 432x288 with 1 Axes>"
            ],
            "image/png": "[encoded data removed]"
          },
          "metadata": {
            "needs_background": "light"
          }
        },
        {
          "output_type": "display_data",
          "data": {
            "text/plain": [
              "<Figure size 432x288 with 1 Axes>"
            ],
            "image/png": "[encoded data removed]"
          },
          "metadata": {
            "needs_background": "light"
          }
        }
      ],
      "source": [
        "# Plot\n",
        "plt.plot(history.history['accuracy'])\n",
        "plt.plot(history.history['val_accuracy'])\n",
        "plt.title('model accuracy')\n",
        "plt.ylabel('accuracy')\n",
        "plt.xlabel('epoch')\n",
        "plt.legend(['train', 'val'], loc='upper left')\n",
        "plt.show()\n",
        "\n",
        "plt.plot(history.history['loss'])\n",
        "plt.plot(history.history['val_loss'])\n",
        "plt.title('model loss')\n",
        "plt.ylabel('loss')\n",
        "plt.xlabel('epoch')\n",
        "plt.legend(['train', 'val'], loc='upper left')\n",
        "plt.show()"
      ]
    },
    {
      "cell_type": "markdown",
      "source": [
        "# **PART B**"
      ],
      "metadata": {
        "id": "VmPqHSAE9hCy"
      }
    },
    {
      "cell_type": "code",
      "source": [
        "x_rotated = []\n",
        "y_rotated = []\n",
        "\n",
        "data = np.divide(x_unlabeld.astype('float32'), 255)\n",
        "\n",
        "for img in data:\n",
        "  for i in range(4):\n",
        "    x = np.rot90(img, k=i)\n",
        "    y = np.zeros(4)\n",
        "    y[i] = 1\n",
        "    x_rotated.append(x)\n",
        "    y_rotated.append(y)\n",
        "\n",
        "x_rotated = np.array(x_rotated)\n",
        "y_rotated = np.array(y_rotated)"
      ],
      "metadata": {
        "id": "nj-VBONn72hY"
      },
      "execution_count": 6,
      "outputs": []
    },
    {
      "cell_type": "code",
      "source": [
        "# Model\n",
        "model_ssl = tensorflow.keras.Sequential([\n",
        "  Conv2D(32, (3, 3), activation='relu', padding='same', input_shape=(32, 32, 3)),\n",
        "  BatchNormalization(),\n",
        "  Conv2D(32, (3, 3), activation='relu', padding='same'),\n",
        "  BatchNormalization(),\n",
        "  MaxPooling2D((2, 2)),\n",
        "  Dropout(0.3),\n",
        "  Conv2D(64, (3, 3), activation='relu', padding='same'),\n",
        "  BatchNormalization(),\n",
        "  Conv2D(64, (3, 3), activation='relu', padding='same'),\n",
        "  BatchNormalization(),\n",
        "  MaxPooling2D((2, 2)),\n",
        "  Dropout(0.3),\n",
        "  Conv2D(128, (3, 3), activation='relu', padding='same'),\n",
        "  BatchNormalization(),\n",
        "  Conv2D(128, (3, 3), activation='relu', padding='same'),\n",
        "  BatchNormalization(),\n",
        "  MaxPooling2D((2, 2)),\n",
        "  Dropout(0.3),\n",
        "  Flatten(),\n",
        "  Dense(64, activation='relu', kernel_initializer='he_uniform'),\n",
        "  Dense(4, activation='softmax')])\n",
        "\n",
        "model_ssl.summary()"
      ],
      "metadata": {
        "colab": {
          "base_uri": "https://localhost:8080/"
        },
        "id": "TwPdqF3G9N_u",
        "outputId": "ee5d80f0-501c-48fe-c74e-81c785d7873c"
      },
      "execution_count": 7,
      "outputs": [
        {
          "output_type": "stream",
          "name": "stdout",
          "text": [
            "Model: \"sequential\"\n",
            "_________________________________________________________________\n",
            " Layer (type)                Output Shape              Param #   \n",
            "=================================================================\n",
            " conv2d (Conv2D)             (None, 32, 32, 32)        896       \n",
            "                                                                 \n",
            " batch_normalization (BatchN  (None, 32, 32, 32)       128       \n",
            " ormalization)                                                   \n",
            "                                                                 \n",
            " conv2d_1 (Conv2D)           (None, 32, 32, 32)        9248      \n",
            "                                                                 \n",
            " batch_normalization_1 (Batc  (None, 32, 32, 32)       128       \n",
            " hNormalization)                                                 \n",
            "                                                                 \n",
            " max_pooling2d (MaxPooling2D  (None, 16, 16, 32)       0         \n",
            " )                                                               \n",
            "                                                                 \n",
            " dropout (Dropout)           (None, 16, 16, 32)        0         \n",
            "                                                                 \n",
            " conv2d_2 (Conv2D)           (None, 16, 16, 64)        18496     \n",
            "                                                                 \n",
            " batch_normalization_2 (Batc  (None, 16, 16, 64)       256       \n",
            " hNormalization)                                                 \n",
            "                                                                 \n",
            " conv2d_3 (Conv2D)           (None, 16, 16, 64)        36928     \n",
            "                                                                 \n",
            " batch_normalization_3 (Batc  (None, 16, 16, 64)       256       \n",
            " hNormalization)                                                 \n",
            "                                                                 \n",
            " max_pooling2d_1 (MaxPooling  (None, 8, 8, 64)         0         \n",
            " 2D)                                                             \n",
            "                                                                 \n",
            " dropout_1 (Dropout)         (None, 8, 8, 64)          0         \n",
            "                                                                 \n",
            " conv2d_4 (Conv2D)           (None, 8, 8, 128)         73856     \n",
            "                                                                 \n",
            " batch_normalization_4 (Batc  (None, 8, 8, 128)        512       \n",
            " hNormalization)                                                 \n",
            "                                                                 \n",
            " conv2d_5 (Conv2D)           (None, 8, 8, 128)         147584    \n",
            "                                                                 \n",
            " batch_normalization_5 (Batc  (None, 8, 8, 128)        512       \n",
            " hNormalization)                                                 \n",
            "                                                                 \n",
            " max_pooling2d_2 (MaxPooling  (None, 4, 4, 128)        0         \n",
            " 2D)                                                             \n",
            "                                                                 \n",
            " dropout_2 (Dropout)         (None, 4, 4, 128)         0         \n",
            "                                                                 \n",
            " flatten (Flatten)           (None, 2048)              0         \n",
            "                                                                 \n",
            " dense (Dense)               (None, 64)                131136    \n",
            "                                                                 \n",
            " dense_1 (Dense)             (None, 4)                 260       \n",
            "                                                                 \n",
            "=================================================================\n",
            "Total params: 420,196\n",
            "Trainable params: 419,300\n",
            "Non-trainable params: 896\n",
            "_________________________________________________________________\n"
          ]
        }
      ]
    },
    {
      "cell_type": "code",
      "source": [
        "model_ssl.compile(optimizer='adam', loss='categorical_crossentropy', metrics=['accuracy'])\n",
        "history = model_ssl.fit(x_rotated, y_rotated,\n",
        "                      batch_size=128,\n",
        "                      epochs=10,\n",
        "                      validation_split=0.2)"
      ],
      "metadata": {
        "colab": {
          "base_uri": "https://localhost:8080/"
        },
        "id": "2tpglePe-Ozp",
        "outputId": "409e2ac6-e545-47d2-f6f4-bc142f9fb017"
      },
      "execution_count": 8,
      "outputs": [
        {
          "output_type": "stream",
          "name": "stdout",
          "text": [
            "Epoch 1/10\n",
            "1245/1245 [==============================] - 30s 17ms/step - loss: 0.9916 - accuracy: 0.5765 - val_loss: 0.8359 - val_accuracy: 0.6588\n",
            "Epoch 2/10\n",
            "1245/1245 [==============================] - 20s 16ms/step - loss: 0.7711 - accuracy: 0.6880 - val_loss: 0.7611 - val_accuracy: 0.6996\n",
            "Epoch 3/10\n",
            "1245/1245 [==============================] - 20s 16ms/step - loss: 0.6732 - accuracy: 0.7320 - val_loss: 0.6168 - val_accuracy: 0.7599\n",
            "Epoch 4/10\n",
            "1245/1245 [==============================] - 21s 17ms/step - loss: 0.6049 - accuracy: 0.7633 - val_loss: 0.5467 - val_accuracy: 0.7862\n",
            "Epoch 5/10\n",
            "1245/1245 [==============================] - 21s 17ms/step - loss: 0.5566 - accuracy: 0.7847 - val_loss: 0.5358 - val_accuracy: 0.7945\n",
            "Epoch 6/10\n",
            "1245/1245 [==============================] - 21s 17ms/step - loss: 0.5201 - accuracy: 0.7995 - val_loss: 0.5508 - val_accuracy: 0.7896\n",
            "Epoch 7/10\n",
            "1245/1245 [==============================] - 21s 17ms/step - loss: 0.4902 - accuracy: 0.8113 - val_loss: 0.5637 - val_accuracy: 0.7859\n",
            "Epoch 8/10\n",
            "1245/1245 [==============================] - 21s 17ms/step - loss: 0.4672 - accuracy: 0.8223 - val_loss: 0.4570 - val_accuracy: 0.8256\n",
            "Epoch 9/10\n",
            "1245/1245 [==============================] - 20s 16ms/step - loss: 0.4479 - accuracy: 0.8300 - val_loss: 0.4895 - val_accuracy: 0.8160\n",
            "Epoch 10/10\n",
            "1245/1245 [==============================] - 20s 16ms/step - loss: 0.4292 - accuracy: 0.8380 - val_loss: 0.4288 - val_accuracy: 0.8393\n"
          ]
        }
      ]
    },
    {
      "cell_type": "code",
      "source": [
        "# Plot\n",
        "plt.plot(history.history['accuracy'])\n",
        "plt.plot(history.history['val_accuracy'])\n",
        "plt.title('model accuracy')\n",
        "plt.ylabel('accuracy')\n",
        "plt.xlabel('epoch')\n",
        "plt.legend(['train', 'val'], loc='upper left')\n",
        "plt.show()\n",
        "\n",
        "plt.plot(history.history['loss'])\n",
        "plt.plot(history.history['val_loss'])\n",
        "plt.title('model loss')\n",
        "plt.ylabel('loss')\n",
        "plt.xlabel('epoch')\n",
        "plt.legend(['train', 'val'], loc='upper left')\n",
        "plt.show()"
      ],
      "metadata": {
        "colab": {
          "base_uri": "https://localhost:8080/",
          "height": 573
        },
        "id": "kuKHK3TRBMyk",
        "outputId": "4e50b6b7-29de-48b0-93bb-04db05ff494b"
      },
      "execution_count": 9,
      "outputs": [
        {
          "output_type": "display_data",
          "data": {
            "text/plain": [
              "<Figure size 432x288 with 1 Axes>"
            ],
            "image/png": "[encoded data removed]"
          },
          "metadata": {
            "needs_background": "light"
          }
        },
        {
          "output_type": "display_data",
          "data": {
            "text/plain": [
              "<Figure size 432x288 with 1 Axes>"
            ],
            "image/png": "[encoded data removed]"
          },
          "metadata": {
            "needs_background": "light"
          }
        }
      ]
    },
    {
      "cell_type": "code",
      "source": [
        "# Model\n",
        "model_b = keras.Model(model_ssl.inputs, Dense(10 ,activation='softmax')(model_ssl.layers[-2].output))\n",
        "model_b.summary()"
      ],
      "metadata": {
        "colab": {
          "base_uri": "https://localhost:8080/"
        },
        "id": "aMWO-bSpCZXS",
        "outputId": "e0935534-bdc6-48bd-c48a-2df5af5b6cad"
      },
      "execution_count": 39,
      "outputs": [
        {
          "output_type": "stream",
          "name": "stdout",
          "text": [
            "Model: \"model_3\"\n",
            "_________________________________________________________________\n",
            " Layer (type)                Output Shape              Param #   \n",
            "=================================================================\n",
            " conv2d_3_input (InputLayer)  [(None, 32, 32, 3)]      0         \n",
            "                                                                 \n",
            " conv2d_3 (Conv2D)           (None, 32, 32, 32)        896       \n",
            "                                                                 \n",
            " batch_normalization_4 (Batc  (None, 32, 32, 32)       128       \n",
            " hNormalization)                                                 \n",
            "                                                                 \n",
            " conv2d_4 (Conv2D)           (None, 32, 32, 32)        9248      \n",
            "                                                                 \n",
            " batch_normalization_5 (Batc  (None, 32, 32, 32)       128       \n",
            " hNormalization)                                                 \n",
            "                                                                 \n",
            " max_pooling2d_3 (MaxPooling  (None, 16, 16, 32)       0         \n",
            " 2D)                                                             \n",
            "                                                                 \n",
            " dropout_4 (Dropout)         (None, 16, 16, 32)        0         \n",
            "                                                                 \n",
            " conv2d_5 (Conv2D)           (None, 16, 16, 64)        18496     \n",
            "                                                                 \n",
            " batch_normalization_6 (Batc  (None, 16, 16, 64)       256       \n",
            " hNormalization)                                                 \n",
            "                                                                 \n",
            " conv2d_6 (Conv2D)           (None, 16, 16, 64)        36928     \n",
            "                                                                 \n",
            " batch_normalization_7 (Batc  (None, 16, 16, 64)       256       \n",
            " hNormalization)                                                 \n",
            "                                                                 \n",
            " max_pooling2d_4 (MaxPooling  (None, 8, 8, 64)         0         \n",
            " 2D)                                                             \n",
            "                                                                 \n",
            " dropout_5 (Dropout)         (None, 8, 8, 64)          0         \n",
            "                                                                 \n",
            " conv2d_7 (Conv2D)           (None, 8, 8, 128)         73856     \n",
            "                                                                 \n",
            " batch_normalization_8 (Batc  (None, 8, 8, 128)        512       \n",
            " hNormalization)                                                 \n",
            "                                                                 \n",
            " conv2d_8 (Conv2D)           (None, 8, 8, 128)         147584    \n",
            "                                                                 \n",
            " batch_normalization_9 (Batc  (None, 8, 8, 128)        512       \n",
            " hNormalization)                                                 \n",
            "                                                                 \n",
            " max_pooling2d_5 (MaxPooling  (None, 4, 4, 128)        0         \n",
            " 2D)                                                             \n",
            "                                                                 \n",
            " dropout_6 (Dropout)         (None, 4, 4, 128)         0         \n",
            "                                                                 \n",
            " flatten_1 (Flatten)         (None, 2048)              0         \n",
            "                                                                 \n",
            " dense_2 (Dense)             (None, 64)                131136    \n",
            "                                                                 \n",
            " dense_7 (Dense)             (None, 10)                650       \n",
            "                                                                 \n",
            "=================================================================\n",
            "Total params: 420,586\n",
            "Trainable params: 419,690\n",
            "Non-trainable params: 896\n",
            "_________________________________________________________________\n"
          ]
        }
      ]
    },
    {
      "cell_type": "code",
      "source": [
        "model_b.compile(optimizer='adam', loss='categorical_crossentropy', metrics=['accuracy'])\n",
        "\n",
        "history = model_b.fit(x_train, y_train,\n",
        "            batch_size=BATCH_SIZE,\n",
        "            epochs=EPOCHS,\n",
        "            validation_data=[x_test, y_test])"
      ],
      "metadata": {
        "colab": {
          "base_uri": "https://localhost:8080/"
        },
        "id": "OQgZ-sVADlzL",
        "outputId": "a64ea051-4a0b-4ce3-a18e-7d54c8c45e3b"
      },
      "execution_count": 40,
      "outputs": [
        {
          "output_type": "stream",
          "name": "stdout",
          "text": [
            "Epoch 1/30\n",
            "7/7 [==============================] - 2s 250ms/step - loss: 7.5018 - accuracy: 0.1350 - val_loss: 4.5860 - val_accuracy: 0.1314\n",
            "Epoch 2/30\n",
            "7/7 [==============================] - 1s 221ms/step - loss: 3.7967 - accuracy: 0.2200 - val_loss: 3.6019 - val_accuracy: 0.1299\n",
            "Epoch 3/30\n",
            "7/7 [==============================] - 1s 221ms/step - loss: 2.5014 - accuracy: 0.2950 - val_loss: 3.0415 - val_accuracy: 0.1473\n",
            "Epoch 4/30\n",
            "7/7 [==============================] - 1s 186ms/step - loss: 1.9545 - accuracy: 0.3950 - val_loss: 2.6648 - val_accuracy: 0.1619\n",
            "Epoch 5/30\n",
            "7/7 [==============================] - 1s 187ms/step - loss: 1.4892 - accuracy: 0.4750 - val_loss: 2.5751 - val_accuracy: 0.1766\n",
            "Epoch 6/30\n",
            "7/7 [==============================] - 1s 180ms/step - loss: 1.2949 - accuracy: 0.5350 - val_loss: 2.5692 - val_accuracy: 0.1838\n",
            "Epoch 7/30\n",
            "7/7 [==============================] - 1s 180ms/step - loss: 1.2201 - accuracy: 0.5550 - val_loss: 2.5829 - val_accuracy: 0.1934\n",
            "Epoch 8/30\n",
            "7/7 [==============================] - 1s 220ms/step - loss: 1.0101 - accuracy: 0.6200 - val_loss: 2.5796 - val_accuracy: 0.2050\n",
            "Epoch 9/30\n",
            "7/7 [==============================] - 1s 179ms/step - loss: 0.9799 - accuracy: 0.6300 - val_loss: 2.5467 - val_accuracy: 0.2232\n",
            "Epoch 10/30\n",
            "7/7 [==============================] - 1s 180ms/step - loss: 0.8378 - accuracy: 0.7150 - val_loss: 2.5208 - val_accuracy: 0.2405\n",
            "Epoch 11/30\n",
            "7/7 [==============================] - 1s 221ms/step - loss: 0.7338 - accuracy: 0.7250 - val_loss: 2.4641 - val_accuracy: 0.2648\n",
            "Epoch 12/30\n",
            "7/7 [==============================] - 1s 185ms/step - loss: 0.6292 - accuracy: 0.8000 - val_loss: 2.4979 - val_accuracy: 0.2769\n",
            "Epoch 13/30\n",
            "7/7 [==============================] - 1s 221ms/step - loss: 0.5785 - accuracy: 0.8300 - val_loss: 2.6287 - val_accuracy: 0.2808\n",
            "Epoch 14/30\n",
            "7/7 [==============================] - 1s 221ms/step - loss: 0.4570 - accuracy: 0.8400 - val_loss: 2.9392 - val_accuracy: 0.2703\n",
            "Epoch 15/30\n",
            "7/7 [==============================] - 1s 222ms/step - loss: 0.4520 - accuracy: 0.8700 - val_loss: 2.9208 - val_accuracy: 0.2834\n",
            "Epoch 16/30\n",
            "7/7 [==============================] - 1s 221ms/step - loss: 0.3586 - accuracy: 0.8800 - val_loss: 2.8195 - val_accuracy: 0.3025\n",
            "Epoch 17/30\n",
            "7/7 [==============================] - 1s 179ms/step - loss: 0.3270 - accuracy: 0.9100 - val_loss: 2.7719 - val_accuracy: 0.3129\n",
            "Epoch 18/30\n",
            "7/7 [==============================] - 1s 222ms/step - loss: 0.3354 - accuracy: 0.9050 - val_loss: 2.8129 - val_accuracy: 0.3239\n",
            "Epoch 19/30\n",
            "7/7 [==============================] - 1s 221ms/step - loss: 0.2828 - accuracy: 0.9200 - val_loss: 2.9038 - val_accuracy: 0.3317\n",
            "Epoch 20/30\n",
            "7/7 [==============================] - 1s 182ms/step - loss: 0.2273 - accuracy: 0.9200 - val_loss: 2.8926 - val_accuracy: 0.3287\n",
            "Epoch 21/30\n",
            "7/7 [==============================] - 1s 180ms/step - loss: 0.2045 - accuracy: 0.9300 - val_loss: 2.8710 - val_accuracy: 0.3311\n",
            "Epoch 22/30\n",
            "7/7 [==============================] - 1s 220ms/step - loss: 0.1985 - accuracy: 0.9350 - val_loss: 2.8698 - val_accuracy: 0.3364\n",
            "Epoch 23/30\n",
            "7/7 [==============================] - 1s 178ms/step - loss: 0.1705 - accuracy: 0.9500 - val_loss: 2.8464 - val_accuracy: 0.3424\n",
            "Epoch 24/30\n",
            "7/7 [==============================] - 1s 220ms/step - loss: 0.1495 - accuracy: 0.9650 - val_loss: 2.8599 - val_accuracy: 0.3460\n",
            "Epoch 25/30\n",
            "7/7 [==============================] - 1s 221ms/step - loss: 0.1706 - accuracy: 0.9250 - val_loss: 2.8621 - val_accuracy: 0.3553\n",
            "Epoch 26/30\n",
            "7/7 [==============================] - 1s 222ms/step - loss: 0.1234 - accuracy: 0.9550 - val_loss: 2.8974 - val_accuracy: 0.3614\n",
            "Epoch 27/30\n",
            "7/7 [==============================] - 1s 221ms/step - loss: 0.1141 - accuracy: 0.9650 - val_loss: 2.9301 - val_accuracy: 0.3664\n",
            "Epoch 28/30\n",
            "7/7 [==============================] - 1s 184ms/step - loss: 0.0932 - accuracy: 0.9800 - val_loss: 2.9572 - val_accuracy: 0.3663\n",
            "Epoch 29/30\n",
            "7/7 [==============================] - 1s 178ms/step - loss: 0.1065 - accuracy: 0.9750 - val_loss: 2.9618 - val_accuracy: 0.3650\n",
            "Epoch 30/30\n",
            "7/7 [==============================] - 1s 221ms/step - loss: 0.1404 - accuracy: 0.9650 - val_loss: 2.9638 - val_accuracy: 0.3699\n"
          ]
        }
      ]
    },
    {
      "cell_type": "code",
      "source": [
        "# Plot\n",
        "plt.plot(history.history['accuracy'])\n",
        "plt.plot(history.history['val_accuracy'])\n",
        "plt.title('model accuracy')\n",
        "plt.ylabel('accuracy')\n",
        "plt.xlabel('epoch')\n",
        "plt.legend(['train', 'val'], loc='upper left')\n",
        "plt.show()\n",
        "\n",
        "plt.plot(history.history['loss'])\n",
        "plt.plot(history.history['val_loss'])\n",
        "plt.title('model loss')\n",
        "plt.ylabel('loss')\n",
        "plt.xlabel('epoch')\n",
        "plt.legend(['train', 'val'], loc='upper left')\n",
        "plt.show()"
      ],
      "metadata": {
        "colab": {
          "base_uri": "https://localhost:8080/",
          "height": 573
        },
        "id": "YcfjtA2THUZa",
        "outputId": "9caa8297-5ab0-46e1-fb13-098509507398"
      },
      "execution_count": 41,
      "outputs": [
        {
          "output_type": "display_data",
          "data": {
            "text/plain": [
              "<Figure size 432x288 with 1 Axes>"
            ],
            "image/png": "[encoded data removed]"
          },
          "metadata": {
            "needs_background": "light"
          }
        },
        {
          "output_type": "display_data",
          "data": {
            "text/plain": [
              "<Figure size 432x288 with 1 Axes>"
            ],
            "image/png": "[encoded data removed]"
          },
          "metadata": {
            "needs_background": "light"
          }
        }
      ]
    },
    {
      "cell_type": "markdown",
      "source": [
        "# **PART C**"
      ],
      "metadata": {
        "id": "ixBFF0VVJFMZ"
      }
    },
    {
      "cell_type": "code",
      "source": [
        "# Base Model\n",
        "l1 = Input(shape=(INPUT_SHAPE),)\n",
        "l2 = Conv2D(filters=32, kernel_size=(3, 3), strides=(1, 1),activation='relu')(l1)\n",
        "l3 = BatchNormalization(axis=-1)(l2)\n",
        "l4 = MaxPooling2D(pool_size=(3, 3))(l3)\n",
        "l5 = Dropout(rate=0.2)(l4)\n",
        "l6 = Conv2D(filters=64, kernel_size=(3, 3), strides=(1, 1), activation='relu')(l5)\n",
        "l7 = BatchNormalization(axis=-1)(l6)\n",
        "l8 = MaxPooling2D(pool_size=(2, 2))(l7)\n",
        "l9 = Dropout(rate=0.2)(l8)\n",
        "l10 = Conv2D(filters=128, kernel_size=(3, 3), strides=(1, 1), activation='relu')(l9)\n",
        "l11 = BatchNormalization(axis=-1)(l10)\n",
        "l12 = MaxPooling2D(pool_size=(2, 2))(l11)\n",
        "l13 = Dropout(rate=0.2)(l12)\n",
        "l14 = Flatten()(l13)\n",
        "l15 = Dense(units=1024, activation='relu')(l14)\n",
        "l16 = BatchNormalization()(l15)\n",
        "output = Dropout(rate=0.2)(l16)\n",
        "base_model = keras.Model(inputs=l1, outputs=output)"
      ],
      "metadata": {
        "id": "pj08rb5r3qmf"
      },
      "execution_count": 10,
      "outputs": []
    },
    {
      "cell_type": "code",
      "source": [
        "# Model\n",
        "\n",
        "classifier = Dense(units=10, activation='softmax', name='classifier')(base_model.outputs[0])\n",
        "rotator = Dense(units=4, activation='softmax', name='rotator')(base_model.outputs[0])\n",
        "\n",
        "model_c = keras.Model(inputs=base_model.inputs, outputs=[classifier, rotator])\n",
        "\n",
        "model_c.summary()"
      ],
      "metadata": {
        "colab": {
          "base_uri": "https://localhost:8080/"
        },
        "id": "FFNPOYsBHmWj",
        "outputId": "68610d07-90eb-4bfd-cccd-1cc5a7779de7"
      },
      "execution_count": 11,
      "outputs": [
        {
          "output_type": "stream",
          "name": "stdout",
          "text": [
            "Model: \"model_1\"\n",
            "__________________________________________________________________________________________________\n",
            " Layer (type)                   Output Shape         Param #     Connected to                     \n",
            "==================================================================================================\n",
            " input_1 (InputLayer)           [(None, 32, 32, 3)]  0           []                               \n",
            "                                                                                                  \n",
            " conv2d_6 (Conv2D)              (None, 30, 30, 32)   896         ['input_1[0][0]']                \n",
            "                                                                                                  \n",
            " batch_normalization_6 (BatchNo  (None, 30, 30, 32)  128         ['conv2d_6[0][0]']               \n",
            " rmalization)                                                                                     \n",
            "                                                                                                  \n",
            " max_pooling2d_3 (MaxPooling2D)  (None, 10, 10, 32)  0           ['batch_normalization_6[0][0]']  \n",
            "                                                                                                  \n",
            " dropout_3 (Dropout)            (None, 10, 10, 32)   0           ['max_pooling2d_3[0][0]']        \n",
            "                                                                                                  \n",
            " conv2d_7 (Conv2D)              (None, 8, 8, 64)     18496       ['dropout_3[0][0]']              \n",
            "                                                                                                  \n",
            " batch_normalization_7 (BatchNo  (None, 8, 8, 64)    256         ['conv2d_7[0][0]']               \n",
            " rmalization)                                                                                     \n",
            "                                                                                                  \n",
            " max_pooling2d_4 (MaxPooling2D)  (None, 4, 4, 64)    0           ['batch_normalization_7[0][0]']  \n",
            "                                                                                                  \n",
            " dropout_4 (Dropout)            (None, 4, 4, 64)     0           ['max_pooling2d_4[0][0]']        \n",
            "                                                                                                  \n",
            " conv2d_8 (Conv2D)              (None, 2, 2, 128)    73856       ['dropout_4[0][0]']              \n",
            "                                                                                                  \n",
            " batch_normalization_8 (BatchNo  (None, 2, 2, 128)   512         ['conv2d_8[0][0]']               \n",
            " rmalization)                                                                                     \n",
            "                                                                                                  \n",
            " max_pooling2d_5 (MaxPooling2D)  (None, 1, 1, 128)   0           ['batch_normalization_8[0][0]']  \n",
            "                                                                                                  \n",
            " dropout_5 (Dropout)            (None, 1, 1, 128)    0           ['max_pooling2d_5[0][0]']        \n",
            "                                                                                                  \n",
            " flatten_1 (Flatten)            (None, 128)          0           ['dropout_5[0][0]']              \n",
            "                                                                                                  \n",
            " dense_2 (Dense)                (None, 1024)         132096      ['flatten_1[0][0]']              \n",
            "                                                                                                  \n",
            " batch_normalization_9 (BatchNo  (None, 1024)        4096        ['dense_2[0][0]']                \n",
            " rmalization)                                                                                     \n",
            "                                                                                                  \n",
            " dropout_6 (Dropout)            (None, 1024)         0           ['batch_normalization_9[0][0]']  \n",
            "                                                                                                  \n",
            " classifier (Dense)             (None, 10)           10250       ['dropout_6[0][0]']              \n",
            "                                                                                                  \n",
            " rotator (Dense)                (None, 4)            4100        ['dropout_6[0][0]']              \n",
            "                                                                                                  \n",
            "==================================================================================================\n",
            "Total params: 244,686\n",
            "Trainable params: 242,190\n",
            "Non-trainable params: 2,496\n",
            "__________________________________________________________________________________________________\n"
          ]
        }
      ]
    },
    {
      "cell_type": "code",
      "source": [
        "x_rotated = np.zeros_like(x_unlabeld)\n",
        "y_rotated = np.zeros((x_unlabeld.shape[0], 4))\n",
        "\n",
        "y_train_class = np.concatenate((y_train, np.zeros((x_rotated.shape[0], 10))), axis=0)\n",
        "y_train_rot = np.concatenate((np.zeros((y_train.shape[0], 4)), y_rotated), axis=0)\n",
        "\n",
        "x_train = np.concatenate((x_train, x_rotated), axis=0)\n",
        "y_train = [y_train_class, y_train_rot]\n",
        "\n",
        "print(x_train.shape)\n",
        "print(y_train[0].shape)\n",
        "print(y_train[1].shape)"
      ],
      "metadata": {
        "colab": {
          "base_uri": "https://localhost:8080/"
        },
        "id": "XByLTWEuKg5t",
        "outputId": "045a3354-d3f8-42e3-8ff7-7b5b1beb7cf9"
      },
      "execution_count": 12,
      "outputs": [
        {
          "output_type": "stream",
          "name": "stdout",
          "text": [
            "(50000, 32, 32, 3)\n",
            "(50000, 10)\n",
            "(50000, 4)\n"
          ]
        }
      ]
    },
    {
      "cell_type": "code",
      "source": [
        "model_c.compile(optimizer='adam', metrics=['accuracy'], loss_weights={'classifier': 10,'rotator': 1}, loss='categorical_crossentropy')\n",
        "\n",
        "history = model_c.fit(\n",
        "    x_train,\n",
        "    y_train,\n",
        "    batch_size=BATCH_SIZE,\n",
        "    epochs=10,\n",
        "    validation_data=(x_test, {'classifier': y_test})\n",
        ")"
      ],
      "metadata": {
        "colab": {
          "base_uri": "https://localhost:8080/"
        },
        "id": "dNQwf26CKDaj",
        "outputId": "ad8086b3-da0c-464b-a8e7-407029175bca"
      },
      "execution_count": 13,
      "outputs": [
        {
          "output_type": "stream",
          "name": "stdout",
          "text": [
            "Epoch 1/10\n",
            "1563/1563 [==============================] - 13s 7ms/step - loss: 0.2183 - classifier_loss: 0.0218 - rotator_loss: 0.0000e+00 - classifier_accuracy: 0.1568 - rotator_accuracy: 0.2185 - val_loss: 1827.5514 - val_classifier_loss: 182.7551 - val_rotator_loss: 0.0000e+00 - val_classifier_accuracy: 0.0997 - val_rotator_accuracy: 0.0000e+00\n",
            "Epoch 2/10\n",
            "1563/1563 [==============================] - 11s 7ms/step - loss: 0.2484 - classifier_loss: 0.0248 - rotator_loss: 0.0000e+00 - classifier_accuracy: 0.1224 - rotator_accuracy: 0.2317 - val_loss: 5762.5664 - val_classifier_loss: 576.2567 - val_rotator_loss: 0.0000e+00 - val_classifier_accuracy: 0.1000 - val_rotator_accuracy: 0.0000e+00\n",
            "Epoch 3/10\n",
            "1563/1563 [==============================] - 11s 7ms/step - loss: 0.2773 - classifier_loss: 0.0277 - rotator_loss: 0.0000e+00 - classifier_accuracy: 0.1147 - rotator_accuracy: 0.2363 - val_loss: 7716.5322 - val_classifier_loss: 771.6533 - val_rotator_loss: 0.0000e+00 - val_classifier_accuracy: 0.0988 - val_rotator_accuracy: 0.0000e+00\n",
            "Epoch 4/10\n",
            "1563/1563 [==============================] - 12s 8ms/step - loss: 0.2800 - classifier_loss: 0.0280 - rotator_loss: 0.0000e+00 - classifier_accuracy: 0.1105 - rotator_accuracy: 0.2392 - val_loss: 5689.6650 - val_classifier_loss: 568.9664 - val_rotator_loss: 0.0000e+00 - val_classifier_accuracy: 0.1000 - val_rotator_accuracy: 0.0000e+00\n",
            "Epoch 5/10\n",
            "1563/1563 [==============================] - 11s 7ms/step - loss: 0.2188 - classifier_loss: 0.0219 - rotator_loss: 0.0000e+00 - classifier_accuracy: 0.1050 - rotator_accuracy: 0.2402 - val_loss: 6517.7202 - val_classifier_loss: 651.7725 - val_rotator_loss: 0.0000e+00 - val_classifier_accuracy: 0.1002 - val_rotator_accuracy: 0.0000e+00\n",
            "Epoch 6/10\n",
            "1563/1563 [==============================] - 12s 8ms/step - loss: 0.2042 - classifier_loss: 0.0204 - rotator_loss: 0.0000e+00 - classifier_accuracy: 0.1042 - rotator_accuracy: 0.2409 - val_loss: 3712.7751 - val_classifier_loss: 371.2776 - val_rotator_loss: 0.0000e+00 - val_classifier_accuracy: 0.0997 - val_rotator_accuracy: 0.0000e+00\n",
            "Epoch 7/10\n",
            "1563/1563 [==============================] - 11s 7ms/step - loss: 0.1807 - classifier_loss: 0.0181 - rotator_loss: 0.0000e+00 - classifier_accuracy: 0.1024 - rotator_accuracy: 0.2415 - val_loss: 2217.6941 - val_classifier_loss: 221.7693 - val_rotator_loss: 0.0000e+00 - val_classifier_accuracy: 0.1000 - val_rotator_accuracy: 0.0000e+00\n",
            "Epoch 8/10\n",
            "1563/1563 [==============================] - 11s 7ms/step - loss: 0.1816 - classifier_loss: 0.0182 - rotator_loss: 0.0000e+00 - classifier_accuracy: 0.1000 - rotator_accuracy: 0.2435 - val_loss: 1398.6776 - val_classifier_loss: 139.8678 - val_rotator_loss: 0.0000e+00 - val_classifier_accuracy: 0.1000 - val_rotator_accuracy: 0.0000e+00\n",
            "Epoch 9/10\n",
            "1563/1563 [==============================] - 11s 7ms/step - loss: 0.1565 - classifier_loss: 0.0157 - rotator_loss: 0.0000e+00 - classifier_accuracy: 0.0989 - rotator_accuracy: 0.2454 - val_loss: 1486.4395 - val_classifier_loss: 148.6439 - val_rotator_loss: 0.0000e+00 - val_classifier_accuracy: 0.0997 - val_rotator_accuracy: 0.0000e+00\n",
            "Epoch 10/10\n",
            "1563/1563 [==============================] - 11s 7ms/step - loss: 0.1376 - classifier_loss: 0.0138 - rotator_loss: 0.0000e+00 - classifier_accuracy: 0.1003 - rotator_accuracy: 0.2480 - val_loss: 1277.8239 - val_classifier_loss: 127.7822 - val_rotator_loss: 0.0000e+00 - val_classifier_accuracy: 0.0991 - val_rotator_accuracy: 0.0000e+00\n"
          ]
        }
      ]
    },
    {
      "cell_type": "code",
      "source": [
        "model_c.compile(optimizer='adam', metrics=['accuracy'], loss_weights={'classifier': 1,'rotator': 10}, loss='categorical_crossentropy')\n",
        "\n",
        "history = model_c.fit(\n",
        "    x_train,\n",
        "    y_train,\n",
        "    batch_size=BATCH_SIZE,\n",
        "    epochs=10,\n",
        "    validation_data=(x_test, {'classifier': y_test})\n",
        ")"
      ],
      "metadata": {
        "colab": {
          "base_uri": "https://localhost:8080/"
        },
        "id": "e7fHUeCQOu_1",
        "outputId": "776b4a2a-3e59-44a4-9f44-3223bbb53160"
      },
      "execution_count": 14,
      "outputs": [
        {
          "output_type": "stream",
          "name": "stdout",
          "text": [
            "Epoch 1/10\n",
            "1563/1563 [==============================] - 12s 7ms/step - loss: 0.0141 - classifier_loss: 0.0141 - rotator_loss: 0.0000e+00 - classifier_accuracy: 0.0741 - rotator_accuracy: 0.2865 - val_loss: 79.7521 - val_classifier_loss: 79.7521 - val_rotator_loss: 0.0000e+00 - val_classifier_accuracy: 0.0996 - val_rotator_accuracy: 0.0000e+00\n",
            "Epoch 2/10\n",
            "1563/1563 [==============================] - 11s 7ms/step - loss: 0.0122 - classifier_loss: 0.0122 - rotator_loss: 0.0000e+00 - classifier_accuracy: 0.0908 - rotator_accuracy: 0.2762 - val_loss: 96.7242 - val_classifier_loss: 96.7242 - val_rotator_loss: 0.0000e+00 - val_classifier_accuracy: 0.1000 - val_rotator_accuracy: 0.0000e+00\n",
            "Epoch 3/10\n",
            "1563/1563 [==============================] - 11s 7ms/step - loss: 0.0111 - classifier_loss: 0.0111 - rotator_loss: 0.0000e+00 - classifier_accuracy: 0.0952 - rotator_accuracy: 0.2745 - val_loss: 180.1779 - val_classifier_loss: 180.1779 - val_rotator_loss: 0.0000e+00 - val_classifier_accuracy: 0.1000 - val_rotator_accuracy: 0.0000e+00\n",
            "Epoch 4/10\n",
            "1563/1563 [==============================] - 11s 7ms/step - loss: 0.0108 - classifier_loss: 0.0108 - rotator_loss: 0.0000e+00 - classifier_accuracy: 0.0905 - rotator_accuracy: 0.2780 - val_loss: 42.4850 - val_classifier_loss: 42.4850 - val_rotator_loss: 0.0000e+00 - val_classifier_accuracy: 0.1000 - val_rotator_accuracy: 0.0000e+00\n",
            "Epoch 5/10\n",
            "1563/1563 [==============================] - 11s 7ms/step - loss: 0.0106 - classifier_loss: 0.0106 - rotator_loss: 0.0000e+00 - classifier_accuracy: 0.0931 - rotator_accuracy: 0.2785 - val_loss: 65.7241 - val_classifier_loss: 65.7241 - val_rotator_loss: 0.0000e+00 - val_classifier_accuracy: 0.1000 - val_rotator_accuracy: 0.0000e+00\n",
            "Epoch 6/10\n",
            "1563/1563 [==============================] - 11s 7ms/step - loss: 0.0110 - classifier_loss: 0.0110 - rotator_loss: 0.0000e+00 - classifier_accuracy: 0.0991 - rotator_accuracy: 0.2760 - val_loss: 20.7330 - val_classifier_loss: 20.7330 - val_rotator_loss: 0.0000e+00 - val_classifier_accuracy: 0.1000 - val_rotator_accuracy: 0.0000e+00\n",
            "Epoch 7/10\n",
            "1563/1563 [==============================] - 11s 7ms/step - loss: 0.0131 - classifier_loss: 0.0131 - rotator_loss: 0.0000e+00 - classifier_accuracy: 0.0977 - rotator_accuracy: 0.2734 - val_loss: 145.6950 - val_classifier_loss: 145.6950 - val_rotator_loss: 0.0000e+00 - val_classifier_accuracy: 0.1000 - val_rotator_accuracy: 0.0000e+00\n",
            "Epoch 8/10\n",
            "1563/1563 [==============================] - 11s 7ms/step - loss: 0.0143 - classifier_loss: 0.0143 - rotator_loss: 0.0000e+00 - classifier_accuracy: 0.0949 - rotator_accuracy: 0.2605 - val_loss: 25.4197 - val_classifier_loss: 25.4197 - val_rotator_loss: 0.0000e+00 - val_classifier_accuracy: 0.0690 - val_rotator_accuracy: 0.0000e+00\n",
            "Epoch 9/10\n",
            "1563/1563 [==============================] - 11s 7ms/step - loss: 0.0145 - classifier_loss: 0.0145 - rotator_loss: 0.0000e+00 - classifier_accuracy: 0.1024 - rotator_accuracy: 0.2517 - val_loss: 228.9667 - val_classifier_loss: 228.9667 - val_rotator_loss: 0.0000e+00 - val_classifier_accuracy: 0.1000 - val_rotator_accuracy: 0.0000e+00\n",
            "Epoch 10/10\n",
            "1563/1563 [==============================] - 11s 7ms/step - loss: 0.0168 - classifier_loss: 0.0168 - rotator_loss: 0.0000e+00 - classifier_accuracy: 0.1015 - rotator_accuracy: 0.2562 - val_loss: 80.8409 - val_classifier_loss: 80.8409 - val_rotator_loss: 0.0000e+00 - val_classifier_accuracy: 0.1000 - val_rotator_accuracy: 0.0000e+00\n"
          ]
        }
      ]
    },
    {
      "cell_type": "code",
      "source": [
        "model_c.compile(optimizer='adam', metrics=['accuracy'], loss_weights={'classifier': 1,'rotator': 1}, loss='categorical_crossentropy')\n",
        "\n",
        "history = model_c.fit(\n",
        "    x_train,\n",
        "    y_train,\n",
        "    batch_size=BATCH_SIZE,\n",
        "    epochs=10,\n",
        "    validation_data=(x_test, {'classifier': y_test})\n",
        ")"
      ],
      "metadata": {
        "colab": {
          "base_uri": "https://localhost:8080/"
        },
        "id": "jk11D-zOPua5",
        "outputId": "4d103437-cc9a-460e-9e9f-b935580ebae9"
      },
      "execution_count": 16,
      "outputs": [
        {
          "output_type": "stream",
          "name": "stdout",
          "text": [
            "Epoch 1/10\n",
            "1563/1563 [==============================] - 13s 7ms/step - loss: 0.0173 - classifier_loss: 0.0173 - rotator_loss: 0.0000e+00 - classifier_accuracy: 0.1094 - rotator_accuracy: 0.2462 - val_loss: 141.2384 - val_classifier_loss: 141.2384 - val_rotator_loss: 0.0000e+00 - val_classifier_accuracy: 0.1000 - val_rotator_accuracy: 0.0000e+00\n",
            "Epoch 2/10\n",
            "1563/1563 [==============================] - 11s 7ms/step - loss: 0.0190 - classifier_loss: 0.0190 - rotator_loss: 0.0000e+00 - classifier_accuracy: 0.1010 - rotator_accuracy: 0.2561 - val_loss: 192.6467 - val_classifier_loss: 192.6467 - val_rotator_loss: 0.0000e+00 - val_classifier_accuracy: 0.1000 - val_rotator_accuracy: 0.0000e+00\n",
            "Epoch 3/10\n",
            "1563/1563 [==============================] - 11s 7ms/step - loss: 0.0193 - classifier_loss: 0.0193 - rotator_loss: 0.0000e+00 - classifier_accuracy: 0.1007 - rotator_accuracy: 0.2542 - val_loss: 125.7262 - val_classifier_loss: 125.7262 - val_rotator_loss: 0.0000e+00 - val_classifier_accuracy: 0.1000 - val_rotator_accuracy: 0.0000e+00\n",
            "Epoch 4/10\n",
            "1563/1563 [==============================] - 11s 7ms/step - loss: 0.0205 - classifier_loss: 0.0205 - rotator_loss: 0.0000e+00 - classifier_accuracy: 0.0986 - rotator_accuracy: 0.2599 - val_loss: 249.5912 - val_classifier_loss: 249.5912 - val_rotator_loss: 0.0000e+00 - val_classifier_accuracy: 0.1000 - val_rotator_accuracy: 0.0000e+00\n",
            "Epoch 5/10\n",
            "1563/1563 [==============================] - 11s 7ms/step - loss: 0.0183 - classifier_loss: 0.0183 - rotator_loss: 0.0000e+00 - classifier_accuracy: 0.1010 - rotator_accuracy: 0.2593 - val_loss: 674.1027 - val_classifier_loss: 674.1027 - val_rotator_loss: 0.0000e+00 - val_classifier_accuracy: 0.1000 - val_rotator_accuracy: 0.0000e+00\n",
            "Epoch 6/10\n",
            "1563/1563 [==============================] - 11s 7ms/step - loss: 0.0224 - classifier_loss: 0.0224 - rotator_loss: 0.0000e+00 - classifier_accuracy: 0.1005 - rotator_accuracy: 0.2543 - val_loss: 284.2585 - val_classifier_loss: 284.2585 - val_rotator_loss: 0.0000e+00 - val_classifier_accuracy: 0.1000 - val_rotator_accuracy: 0.0000e+00\n",
            "Epoch 7/10\n",
            "1563/1563 [==============================] - 12s 7ms/step - loss: 0.0222 - classifier_loss: 0.0222 - rotator_loss: 0.0000e+00 - classifier_accuracy: 0.1016 - rotator_accuracy: 0.2565 - val_loss: 364.7787 - val_classifier_loss: 364.7787 - val_rotator_loss: 0.0000e+00 - val_classifier_accuracy: 0.1000 - val_rotator_accuracy: 0.0000e+00\n",
            "Epoch 8/10\n",
            "1563/1563 [==============================] - 11s 7ms/step - loss: 0.0217 - classifier_loss: 0.0217 - rotator_loss: 0.0000e+00 - classifier_accuracy: 0.1008 - rotator_accuracy: 0.2555 - val_loss: 71.8688 - val_classifier_loss: 71.8688 - val_rotator_loss: 0.0000e+00 - val_classifier_accuracy: 0.1000 - val_rotator_accuracy: 0.0000e+00\n",
            "Epoch 9/10\n",
            "1563/1563 [==============================] - 11s 7ms/step - loss: 0.0236 - classifier_loss: 0.0236 - rotator_loss: 0.0000e+00 - classifier_accuracy: 0.1013 - rotator_accuracy: 0.2523 - val_loss: 219.1377 - val_classifier_loss: 219.1377 - val_rotator_loss: 0.0000e+00 - val_classifier_accuracy: 0.1000 - val_rotator_accuracy: 0.0000e+00\n",
            "Epoch 10/10\n",
            "1563/1563 [==============================] - 11s 7ms/step - loss: 0.0212 - classifier_loss: 0.0212 - rotator_loss: 0.0000e+00 - classifier_accuracy: 0.1037 - rotator_accuracy: 0.2523 - val_loss: 416.8025 - val_classifier_loss: 416.8025 - val_rotator_loss: 0.0000e+00 - val_classifier_accuracy: 0.1000 - val_rotator_accuracy: 0.0000e+00\n"
          ]
        }
      ]
    }
  ],
  "metadata": {
    "accelerator": "GPU",
    "colab": {
      "provenance": []
    },
    "gpuClass": "standard",
    "kernelspec": {
      "display_name": "Python 3",
      "name": "python3"
    },
    "language_info": {
      "name": "python"
    }
  },
  "nbformat": 4,
  "nbformat_minor": 0
}